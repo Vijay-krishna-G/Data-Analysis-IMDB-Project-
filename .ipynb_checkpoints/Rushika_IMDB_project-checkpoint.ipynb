{
 "cells": [
  {
   "cell_type": "markdown",
   "metadata": {
    "id": "zELhtVP_g4LI"
   },
   "source": [
    "## Name: Rushika Sachin Landage[DST 10923]\n"
   ]
  },
  {
   "cell_type": "code",
   "execution_count": null,
   "metadata": {
    "id": "ODRirU_gg4LM"
   },
   "outputs": [],
   "source": [
    "import numpy as np\n",
    "import pandas as pd\n",
    "import sqlite3\n"
   ]
  },
  {
   "cell_type": "code",
   "execution_count": null,
   "metadata": {
    "id": "c6zIlHyOg4LN"
   },
   "outputs": [],
   "source": [
    "db = 'movies.sqlite'\n",
    "conn = sqlite3.connect(db)\n",
    "cur = conn.cursor()"
   ]
  },
  {
   "cell_type": "markdown",
   "metadata": {
    "id": "iiu6-ZP0g4LN"
   },
   "source": [
    "## Question 3: Check how many movies are present in IMDB."
   ]
  },
  {
   "cell_type": "code",
   "execution_count": null,
   "metadata": {
    "id": "E5DO7JcQg4LO",
    "outputId": "7fc5eea5-6805-4227-99c4-12bd1ced1cdc"
   },
   "outputs": [
    {
     "name": "stdout",
     "output_type": "stream",
     "text": [
      "Shape of Movies_count data : (1, 1)\n"
     ]
    },
    {
     "data": {
      "text/html": [
       "<div>\n",
       "<style scoped>\n",
       "    .dataframe tbody tr th:only-of-type {\n",
       "        vertical-align: middle;\n",
       "    }\n",
       "\n",
       "    .dataframe tbody tr th {\n",
       "        vertical-align: top;\n",
       "    }\n",
       "\n",
       "    .dataframe thead th {\n",
       "        text-align: right;\n",
       "    }\n",
       "</style>\n",
       "<table border=\"1\" class=\"dataframe\">\n",
       "  <thead>\n",
       "    <tr style=\"text-align: right;\">\n",
       "      <th></th>\n",
       "      <th>movies_count</th>\n",
       "    </tr>\n",
       "  </thead>\n",
       "  <tbody>\n",
       "    <tr>\n",
       "      <th>0</th>\n",
       "      <td>4773</td>\n",
       "    </tr>\n",
       "  </tbody>\n",
       "</table>\n",
       "</div>"
      ],
      "text/plain": [
       "   movies_count\n",
       "0          4773"
      ]
     },
     "execution_count": 42,
     "metadata": {},
     "output_type": "execute_result"
    }
   ],
   "source": [
    "cur.execute('SELECT count(*) FROM movies')\n",
    "movies = cur.fetchall()\n",
    "movies = pd.DataFrame(movies, columns = ['movies_count'])\n",
    "print('Shape of Movies_count data :',movies.shape)\n",
    "movies.head()"
   ]
  },
  {
   "cell_type": "markdown",
   "metadata": {
    "id": "_rp__Fkag4LO"
   },
   "source": [
    "note: By the above generated table it is seen that there are 4773 movies present in IMDB."
   ]
  },
  {
   "cell_type": "markdown",
   "metadata": {
    "id": "vQTZTGKag4LO"
   },
   "source": [
    "## Question 4: Find these 3 directors: James Cameron ; Luc Besson ; John Woo"
   ]
  },
  {
   "cell_type": "code",
   "execution_count": null,
   "metadata": {
    "id": "9PDMwuJ4g4LP",
    "outputId": "a3b6e47f-dee2-4d6c-afc8-9f6d1dc88776"
   },
   "outputs": [
    {
     "name": "stdout",
     "output_type": "stream",
     "text": [
      "Shape of the 3 directors data : (3, 5)\n"
     ]
    },
    {
     "data": {
      "text/html": [
       "<div>\n",
       "<style scoped>\n",
       "    .dataframe tbody tr th:only-of-type {\n",
       "        vertical-align: middle;\n",
       "    }\n",
       "\n",
       "    .dataframe tbody tr th {\n",
       "        vertical-align: top;\n",
       "    }\n",
       "\n",
       "    .dataframe thead th {\n",
       "        text-align: right;\n",
       "    }\n",
       "</style>\n",
       "<table border=\"1\" class=\"dataframe\">\n",
       "  <thead>\n",
       "    <tr style=\"text-align: right;\">\n",
       "      <th></th>\n",
       "      <th>name</th>\n",
       "      <th>id</th>\n",
       "      <th>gender</th>\n",
       "      <th>uid</th>\n",
       "      <th>department</th>\n",
       "    </tr>\n",
       "  </thead>\n",
       "  <tbody>\n",
       "    <tr>\n",
       "      <th>0</th>\n",
       "      <td>James Cameron</td>\n",
       "      <td>4762</td>\n",
       "      <td>2</td>\n",
       "      <td>2710</td>\n",
       "      <td>Directing</td>\n",
       "    </tr>\n",
       "    <tr>\n",
       "      <th>1</th>\n",
       "      <td>John Woo</td>\n",
       "      <td>4893</td>\n",
       "      <td>2</td>\n",
       "      <td>11401</td>\n",
       "      <td>Directing</td>\n",
       "    </tr>\n",
       "    <tr>\n",
       "      <th>2</th>\n",
       "      <td>Luc Besson</td>\n",
       "      <td>4949</td>\n",
       "      <td>2</td>\n",
       "      <td>59</td>\n",
       "      <td>Directing</td>\n",
       "    </tr>\n",
       "  </tbody>\n",
       "</table>\n",
       "</div>"
      ],
      "text/plain": [
       "            name    id  gender    uid department\n",
       "0  James Cameron  4762       2   2710  Directing\n",
       "1       John Woo  4893       2  11401  Directing\n",
       "2     Luc Besson  4949       2     59  Directing"
      ]
     },
     "execution_count": 30,
     "metadata": {},
     "output_type": "execute_result"
    }
   ],
   "source": [
    "cur.execute(\"select * from directors where name in ('James Cameron', 'Luc Besson', 'John Woo')\")\n",
    "directors = cur.fetchall()\n",
    "directors = pd.DataFrame(directors, columns = ['name', 'id', 'gender', 'uid', 'department'])\n",
    "print('Shape of the 3 directors data :',directors.shape)\n",
    "directors.head(3)"
   ]
  },
  {
   "cell_type": "markdown",
   "metadata": {
    "id": "vUNFaoXJg4LP"
   },
   "source": [
    "note: I have generated above table data for directors James Cameron , Luc Besson and John Woo"
   ]
  },
  {
   "cell_type": "markdown",
   "metadata": {
    "id": "abGhGZ6fg4LP"
   },
   "source": [
    "## Question 5: Find all directors with name starting with Steven."
   ]
  },
  {
   "cell_type": "code",
   "execution_count": null,
   "metadata": {
    "id": "vm_TsPZEg4LQ",
    "outputId": "4adf0077-e410-4f47-e3a9-e644815bb753"
   },
   "outputs": [
    {
     "name": "stdout",
     "output_type": "stream",
     "text": [
      "Shape of Directors name starting with steven data : (9, 5)\n"
     ]
    },
    {
     "data": {
      "text/html": [
       "<div>\n",
       "<style scoped>\n",
       "    .dataframe tbody tr th:only-of-type {\n",
       "        vertical-align: middle;\n",
       "    }\n",
       "\n",
       "    .dataframe tbody tr th {\n",
       "        vertical-align: top;\n",
       "    }\n",
       "\n",
       "    .dataframe thead th {\n",
       "        text-align: right;\n",
       "    }\n",
       "</style>\n",
       "<table border=\"1\" class=\"dataframe\">\n",
       "  <thead>\n",
       "    <tr style=\"text-align: right;\">\n",
       "      <th></th>\n",
       "      <th>name</th>\n",
       "      <th>id</th>\n",
       "      <th>gender</th>\n",
       "      <th>uid</th>\n",
       "      <th>department</th>\n",
       "    </tr>\n",
       "  </thead>\n",
       "  <tbody>\n",
       "    <tr>\n",
       "      <th>0</th>\n",
       "      <td>Steven Spielberg</td>\n",
       "      <td>4799</td>\n",
       "      <td>2</td>\n",
       "      <td>488</td>\n",
       "      <td>Directing</td>\n",
       "    </tr>\n",
       "    <tr>\n",
       "      <th>1</th>\n",
       "      <td>Steven Soderbergh</td>\n",
       "      <td>4909</td>\n",
       "      <td>2</td>\n",
       "      <td>1884</td>\n",
       "      <td>Directing</td>\n",
       "    </tr>\n",
       "    <tr>\n",
       "      <th>2</th>\n",
       "      <td>Steven Brill</td>\n",
       "      <td>5013</td>\n",
       "      <td>2</td>\n",
       "      <td>32593</td>\n",
       "      <td>Directing</td>\n",
       "    </tr>\n",
       "    <tr>\n",
       "      <th>3</th>\n",
       "      <td>Steven Zaillian</td>\n",
       "      <td>5117</td>\n",
       "      <td>2</td>\n",
       "      <td>2260</td>\n",
       "      <td>Directing</td>\n",
       "    </tr>\n",
       "    <tr>\n",
       "      <th>4</th>\n",
       "      <td>Steven Quale</td>\n",
       "      <td>5216</td>\n",
       "      <td>2</td>\n",
       "      <td>93214</td>\n",
       "      <td>Directing</td>\n",
       "    </tr>\n",
       "    <tr>\n",
       "      <th>5</th>\n",
       "      <td>Steven Seagal</td>\n",
       "      <td>5221</td>\n",
       "      <td>2</td>\n",
       "      <td>23880</td>\n",
       "      <td>Directing</td>\n",
       "    </tr>\n",
       "    <tr>\n",
       "      <th>6</th>\n",
       "      <td>Steven E. de Souza</td>\n",
       "      <td>5390</td>\n",
       "      <td>2</td>\n",
       "      <td>1726</td>\n",
       "      <td>Directing</td>\n",
       "    </tr>\n",
       "    <tr>\n",
       "      <th>7</th>\n",
       "      <td>Steven Shainberg</td>\n",
       "      <td>5803</td>\n",
       "      <td>2</td>\n",
       "      <td>67795</td>\n",
       "      <td>Directing</td>\n",
       "    </tr>\n",
       "    <tr>\n",
       "      <th>8</th>\n",
       "      <td>Steven R. Monroe</td>\n",
       "      <td>6713</td>\n",
       "      <td>2</td>\n",
       "      <td>88039</td>\n",
       "      <td>Directing</td>\n",
       "    </tr>\n",
       "  </tbody>\n",
       "</table>\n",
       "</div>"
      ],
      "text/plain": [
       "                 name    id  gender    uid department\n",
       "0    Steven Spielberg  4799       2    488  Directing\n",
       "1   Steven Soderbergh  4909       2   1884  Directing\n",
       "2        Steven Brill  5013       2  32593  Directing\n",
       "3     Steven Zaillian  5117       2   2260  Directing\n",
       "4        Steven Quale  5216       2  93214  Directing\n",
       "5       Steven Seagal  5221       2  23880  Directing\n",
       "6  Steven E. de Souza  5390       2   1726  Directing\n",
       "7    Steven Shainberg  5803       2  67795  Directing\n",
       "8    Steven R. Monroe  6713       2  88039  Directing"
      ]
     },
     "execution_count": 31,
     "metadata": {},
     "output_type": "execute_result"
    }
   ],
   "source": [
    "cur.execute(\"SELECT * FROM directors where name like 'steven%'\")\n",
    "directors = cur.fetchall()\n",
    "directors = pd.DataFrame(directors, columns = ['name', 'id', 'gender', 'uid', 'department'])\n",
    "print('Shape of Directors name starting with steven data :',directors.shape)\n",
    "directors.head(100)"
   ]
  },
  {
   "cell_type": "markdown",
   "metadata": {
    "id": "kyhoZfrog4LQ"
   },
   "source": [
    "note: I have generated above table for all the directors with name starting with steven."
   ]
  },
  {
   "cell_type": "markdown",
   "metadata": {
    "id": "R7U82PaVg4LQ"
   },
   "source": [
    "## Question 6: Count female directors."
   ]
  },
  {
   "cell_type": "code",
   "execution_count": null,
   "metadata": {
    "id": "CqxkW-9Mg4LQ",
    "outputId": "f24fab72-54a2-43a9-efa2-3f898e2291c4"
   },
   "outputs": [
    {
     "name": "stdout",
     "output_type": "stream",
     "text": [
      "Shape of count female directors data : (1, 1)\n"
     ]
    },
    {
     "data": {
      "text/html": [
       "<div>\n",
       "<style scoped>\n",
       "    .dataframe tbody tr th:only-of-type {\n",
       "        vertical-align: middle;\n",
       "    }\n",
       "\n",
       "    .dataframe tbody tr th {\n",
       "        vertical-align: top;\n",
       "    }\n",
       "\n",
       "    .dataframe thead th {\n",
       "        text-align: right;\n",
       "    }\n",
       "</style>\n",
       "<table border=\"1\" class=\"dataframe\">\n",
       "  <thead>\n",
       "    <tr style=\"text-align: right;\">\n",
       "      <th></th>\n",
       "      <th>female_director_count</th>\n",
       "    </tr>\n",
       "  </thead>\n",
       "  <tbody>\n",
       "    <tr>\n",
       "      <th>0</th>\n",
       "      <td>150</td>\n",
       "    </tr>\n",
       "  </tbody>\n",
       "</table>\n",
       "</div>"
      ],
      "text/plain": [
       "   female_director_count\n",
       "0                    150"
      ]
     },
     "execution_count": 108,
     "metadata": {},
     "output_type": "execute_result"
    }
   ],
   "source": [
    "cur.execute(\"SELECT count(*) FROM directors where gender='1' \")\n",
    "directors = cur.fetchall()\n",
    "directors = pd.DataFrame(directors, columns = ['female_director_count'])\n",
    "print('Shape of count female directors data :',directors.shape)\n",
    "directors.head()"
   ]
  },
  {
   "cell_type": "markdown",
   "metadata": {
    "id": "jx0vj4I0g4LQ"
   },
   "source": [
    "note: I have generated above table for all the female directors count which is 150."
   ]
  },
  {
   "cell_type": "markdown",
   "metadata": {
    "id": "ZjAdZdYBg4LQ"
   },
   "source": [
    "## Question 7: Find the name of the 10th first women directors"
   ]
  },
  {
   "cell_type": "code",
   "execution_count": null,
   "metadata": {
    "id": "vjhkirv3g4LQ",
    "outputId": "f934aa2f-0aef-4d74-fb81-35e03539ea89"
   },
   "outputs": [
    {
     "name": "stdout",
     "output_type": "stream",
     "text": [
      "Shape of Directors name starting with steven data : (150, 5)\n"
     ]
    },
    {
     "data": {
      "text/html": [
       "<div>\n",
       "<style scoped>\n",
       "    .dataframe tbody tr th:only-of-type {\n",
       "        vertical-align: middle;\n",
       "    }\n",
       "\n",
       "    .dataframe tbody tr th {\n",
       "        vertical-align: top;\n",
       "    }\n",
       "\n",
       "    .dataframe thead th {\n",
       "        text-align: right;\n",
       "    }\n",
       "</style>\n",
       "<table border=\"1\" class=\"dataframe\">\n",
       "  <thead>\n",
       "    <tr style=\"text-align: right;\">\n",
       "      <th></th>\n",
       "      <th>name</th>\n",
       "      <th>id</th>\n",
       "      <th>gender</th>\n",
       "      <th>uid</th>\n",
       "      <th>department</th>\n",
       "    </tr>\n",
       "  </thead>\n",
       "  <tbody>\n",
       "    <tr>\n",
       "      <th>0</th>\n",
       "      <td>Brenda Chapman</td>\n",
       "      <td>4801</td>\n",
       "      <td>1</td>\n",
       "      <td>59803</td>\n",
       "      <td>Directing</td>\n",
       "    </tr>\n",
       "    <tr>\n",
       "      <th>1</th>\n",
       "      <td>Lilly Wachowski</td>\n",
       "      <td>4805</td>\n",
       "      <td>1</td>\n",
       "      <td>9339</td>\n",
       "      <td>Directing</td>\n",
       "    </tr>\n",
       "    <tr>\n",
       "      <th>2</th>\n",
       "      <td>Jennifer Yuh Nelson</td>\n",
       "      <td>4853</td>\n",
       "      <td>1</td>\n",
       "      <td>142312</td>\n",
       "      <td>Directing</td>\n",
       "    </tr>\n",
       "    <tr>\n",
       "      <th>3</th>\n",
       "      <td>Kathryn Bigelow</td>\n",
       "      <td>4970</td>\n",
       "      <td>1</td>\n",
       "      <td>14392</td>\n",
       "      <td>Directing</td>\n",
       "    </tr>\n",
       "    <tr>\n",
       "      <th>4</th>\n",
       "      <td>Nancy Meyers</td>\n",
       "      <td>4978</td>\n",
       "      <td>1</td>\n",
       "      <td>17698</td>\n",
       "      <td>Directing</td>\n",
       "    </tr>\n",
       "    <tr>\n",
       "      <th>5</th>\n",
       "      <td>Jill Culton</td>\n",
       "      <td>4979</td>\n",
       "      <td>1</td>\n",
       "      <td>7881</td>\n",
       "      <td>Directing</td>\n",
       "    </tr>\n",
       "    <tr>\n",
       "      <th>6</th>\n",
       "      <td>Mimi Leder</td>\n",
       "      <td>4996</td>\n",
       "      <td>1</td>\n",
       "      <td>51984</td>\n",
       "      <td>Directing</td>\n",
       "    </tr>\n",
       "    <tr>\n",
       "      <th>7</th>\n",
       "      <td>Vicky Jenson</td>\n",
       "      <td>5032</td>\n",
       "      <td>1</td>\n",
       "      <td>12058</td>\n",
       "      <td>Directing</td>\n",
       "    </tr>\n",
       "    <tr>\n",
       "      <th>8</th>\n",
       "      <td>Betty Thomas</td>\n",
       "      <td>5052</td>\n",
       "      <td>1</td>\n",
       "      <td>31024</td>\n",
       "      <td>Directing</td>\n",
       "    </tr>\n",
       "    <tr>\n",
       "      <th>9</th>\n",
       "      <td>Angelina Jolie</td>\n",
       "      <td>5086</td>\n",
       "      <td>1</td>\n",
       "      <td>11701</td>\n",
       "      <td>Directing</td>\n",
       "    </tr>\n",
       "  </tbody>\n",
       "</table>\n",
       "</div>"
      ],
      "text/plain": [
       "                  name    id  gender     uid department\n",
       "0       Brenda Chapman  4801       1   59803  Directing\n",
       "1      Lilly Wachowski  4805       1    9339  Directing\n",
       "2  Jennifer Yuh Nelson  4853       1  142312  Directing\n",
       "3      Kathryn Bigelow  4970       1   14392  Directing\n",
       "4         Nancy Meyers  4978       1   17698  Directing\n",
       "5          Jill Culton  4979       1    7881  Directing\n",
       "6           Mimi Leder  4996       1   51984  Directing\n",
       "7         Vicky Jenson  5032       1   12058  Directing\n",
       "8         Betty Thomas  5052       1   31024  Directing\n",
       "9       Angelina Jolie  5086       1   11701  Directing"
      ]
     },
     "execution_count": 35,
     "metadata": {},
     "output_type": "execute_result"
    }
   ],
   "source": [
    "cur.execute(\"SELECT * FROM directors where gender='1' order by id asc \")\n",
    "directors = cur.fetchall()\n",
    "directors = pd.DataFrame(directors, columns = ['name', 'id', 'gender', 'uid', 'department'])\n",
    "print('Shape of Directors name starting with steven data :',directors.shape)\n",
    "directors.head(10)"
   ]
  },
  {
   "cell_type": "markdown",
   "metadata": {
    "id": "amvqPQYhg4LR"
   },
   "source": [
    "note: I have generated table for first 10 women directors ordered by their id."
   ]
  },
  {
   "cell_type": "markdown",
   "metadata": {
    "id": "ON9W38Xcg4LR"
   },
   "source": [
    "## Question 8: What are the 3 most popular movies?"
   ]
  },
  {
   "cell_type": "code",
   "execution_count": null,
   "metadata": {
    "id": "NgFT75jxg4LR",
    "outputId": "48a4caa3-9b45-4633-b8c8-72ff02a1bd92"
   },
   "outputs": [
    {
     "name": "stdout",
     "output_type": "stream",
     "text": [
      "Shape of most popular movies data : (4773, 3)\n"
     ]
    },
    {
     "data": {
      "text/html": [
       "<div>\n",
       "<style scoped>\n",
       "    .dataframe tbody tr th:only-of-type {\n",
       "        vertical-align: middle;\n",
       "    }\n",
       "\n",
       "    .dataframe tbody tr th {\n",
       "        vertical-align: top;\n",
       "    }\n",
       "\n",
       "    .dataframe thead th {\n",
       "        text-align: right;\n",
       "    }\n",
       "</style>\n",
       "<table border=\"1\" class=\"dataframe\">\n",
       "  <thead>\n",
       "    <tr style=\"text-align: right;\">\n",
       "      <th></th>\n",
       "      <th>id</th>\n",
       "      <th>original_title</th>\n",
       "      <th>popularity</th>\n",
       "    </tr>\n",
       "  </thead>\n",
       "  <tbody>\n",
       "    <tr>\n",
       "      <th>0</th>\n",
       "      <td>44143</td>\n",
       "      <td>Minions</td>\n",
       "      <td>875</td>\n",
       "    </tr>\n",
       "    <tr>\n",
       "      <th>1</th>\n",
       "      <td>43692</td>\n",
       "      <td>Interstellar</td>\n",
       "      <td>724</td>\n",
       "    </tr>\n",
       "    <tr>\n",
       "      <th>2</th>\n",
       "      <td>44385</td>\n",
       "      <td>Deadpool</td>\n",
       "      <td>514</td>\n",
       "    </tr>\n",
       "  </tbody>\n",
       "</table>\n",
       "</div>"
      ],
      "text/plain": [
       "      id original_title  popularity\n",
       "0  44143        Minions         875\n",
       "1  43692   Interstellar         724\n",
       "2  44385       Deadpool         514"
      ]
     },
     "execution_count": 83,
     "metadata": {},
     "output_type": "execute_result"
    }
   ],
   "source": [
    "cur.execute('select id,original_title,popularity from movies order by popularity desc')\n",
    "movies = cur.fetchall()\n",
    "movies = pd.DataFrame(movies, columns = ['id', 'original_title', 'popularity'])\n",
    "print('Shape of most popular movies data :',movies.shape)\n",
    "movies.head(3)"
   ]
  },
  {
   "cell_type": "markdown",
   "metadata": {
    "id": "UYwBrWI5g4LR"
   },
   "source": [
    "note: I have generated the table for 3 most popular movies which are Minions,Interstellar,Deadpool respectively"
   ]
  },
  {
   "cell_type": "markdown",
   "metadata": {
    "id": "RydAkZyHg4LR"
   },
   "source": [
    "## Question 9: What are the 3 most bankable movies?"
   ]
  },
  {
   "cell_type": "code",
   "execution_count": null,
   "metadata": {
    "id": "UB8kbEdTg4LR",
    "outputId": "7559b132-0839-4e96-be3e-8742917fe859"
   },
   "outputs": [
    {
     "name": "stdout",
     "output_type": "stream",
     "text": [
      "Shape of Movies_bank data : (4773, 3)\n"
     ]
    },
    {
     "data": {
      "text/html": [
       "<div>\n",
       "<style scoped>\n",
       "    .dataframe tbody tr th:only-of-type {\n",
       "        vertical-align: middle;\n",
       "    }\n",
       "\n",
       "    .dataframe tbody tr th {\n",
       "        vertical-align: top;\n",
       "    }\n",
       "\n",
       "    .dataframe thead th {\n",
       "        text-align: right;\n",
       "    }\n",
       "</style>\n",
       "<table border=\"1\" class=\"dataframe\">\n",
       "  <thead>\n",
       "    <tr style=\"text-align: right;\">\n",
       "      <th></th>\n",
       "      <th>id</th>\n",
       "      <th>original_title</th>\n",
       "      <th>revenue</th>\n",
       "    </tr>\n",
       "  </thead>\n",
       "  <tbody>\n",
       "    <tr>\n",
       "      <th>0</th>\n",
       "      <td>43597</td>\n",
       "      <td>Avatar</td>\n",
       "      <td>2787965087</td>\n",
       "    </tr>\n",
       "    <tr>\n",
       "      <th>1</th>\n",
       "      <td>43622</td>\n",
       "      <td>Titanic</td>\n",
       "      <td>1845034188</td>\n",
       "    </tr>\n",
       "    <tr>\n",
       "      <th>2</th>\n",
       "      <td>43613</td>\n",
       "      <td>The Avengers</td>\n",
       "      <td>1519557910</td>\n",
       "    </tr>\n",
       "  </tbody>\n",
       "</table>\n",
       "</div>"
      ],
      "text/plain": [
       "      id original_title     revenue\n",
       "0  43597         Avatar  2787965087\n",
       "1  43622        Titanic  1845034188\n",
       "2  43613   The Avengers  1519557910"
      ]
     },
     "execution_count": 82,
     "metadata": {},
     "output_type": "execute_result"
    }
   ],
   "source": [
    "cur.execute('select id,original_title,revenue from movies order by revenue desc')\n",
    "movies = cur.fetchall()\n",
    "movies = pd.DataFrame(movies, columns = ['id', 'original_title', 'revenue'])\n",
    "print('Shape of Movies_bank data :',movies.shape)\n",
    "movies.head(3)"
   ]
  },
  {
   "cell_type": "markdown",
   "metadata": {
    "id": "1lyDMwH9g4LS"
   },
   "source": [
    "note: I have generated the above table having 3 most bankable movies"
   ]
  },
  {
   "cell_type": "markdown",
   "metadata": {
    "id": "axVZ0Jxcg4LS"
   },
   "source": [
    "## Question 10: What is the most awarded average vote since the January 1st, 2000?"
   ]
  },
  {
   "cell_type": "code",
   "execution_count": null,
   "metadata": {
    "id": "f5_BAIxwg4LS",
    "outputId": "d0904cc2-9545-4057-a26e-16dba71bdea9"
   },
   "outputs": [
    {
     "name": "stdout",
     "output_type": "stream",
     "text": [
      "Shape of max_vote_average data : (1, 5)\n"
     ]
    },
    {
     "data": {
      "text/html": [
       "<div>\n",
       "<style scoped>\n",
       "    .dataframe tbody tr th:only-of-type {\n",
       "        vertical-align: middle;\n",
       "    }\n",
       "\n",
       "    .dataframe tbody tr th {\n",
       "        vertical-align: top;\n",
       "    }\n",
       "\n",
       "    .dataframe thead th {\n",
       "        text-align: right;\n",
       "    }\n",
       "</style>\n",
       "<table border=\"1\" class=\"dataframe\">\n",
       "  <thead>\n",
       "    <tr style=\"text-align: right;\">\n",
       "      <th></th>\n",
       "      <th>id</th>\n",
       "      <th>original_title</th>\n",
       "      <th>release_date</th>\n",
       "      <th>vote_count</th>\n",
       "      <th>max_vote_average</th>\n",
       "    </tr>\n",
       "  </thead>\n",
       "  <tbody>\n",
       "    <tr>\n",
       "      <th>0</th>\n",
       "      <td>47589</td>\n",
       "      <td>Sardaarji</td>\n",
       "      <td>2015-06-26</td>\n",
       "      <td>2</td>\n",
       "      <td>9.5</td>\n",
       "    </tr>\n",
       "  </tbody>\n",
       "</table>\n",
       "</div>"
      ],
      "text/plain": [
       "      id original_title release_date  vote_count  max_vote_average\n",
       "0  47589      Sardaarji   2015-06-26           2               9.5"
      ]
     },
     "execution_count": 81,
     "metadata": {},
     "output_type": "execute_result"
    }
   ],
   "source": [
    "cur.execute(\"SELECT id, original_title,release_date,vote_count,MAX(vote_average) FROM movies WHERE release_date >= '2000-01-01'\")\n",
    "movies = cur.fetchall()\n",
    "movies = pd.DataFrame(movies, columns = ['id', 'original_title', 'release_date', 'vote_count', 'max_vote_average'])\n",
    "print('Shape of max_vote_average data :',movies.shape)\n",
    "movies.head()"
   ]
  },
  {
   "cell_type": "markdown",
   "metadata": {
    "id": "3tBm5oIdg4LS"
   },
   "source": [
    "note: I have generated above table for the most awarded average vote since january 1st 2000. movie name is sardaarji with the max_vote_average of 9.5 ."
   ]
  },
  {
   "cell_type": "markdown",
   "metadata": {
    "id": "BtxaPv4vg4LS"
   },
   "source": [
    "## Question 11: Which movie(s) were directed by Brenda Chapman?"
   ]
  },
  {
   "cell_type": "code",
   "execution_count": null,
   "metadata": {
    "id": "BpmLO4rCg4LS",
    "outputId": "e5714d2c-2ab5-435a-dcaf-2854def6c3a6"
   },
   "outputs": [
    {
     "name": "stdout",
     "output_type": "stream",
     "text": [
      "Shape of Movies directed by brenda chapman data : (1, 2)\n"
     ]
    },
    {
     "data": {
      "text/html": [
       "<div>\n",
       "<style scoped>\n",
       "    .dataframe tbody tr th:only-of-type {\n",
       "        vertical-align: middle;\n",
       "    }\n",
       "\n",
       "    .dataframe tbody tr th {\n",
       "        vertical-align: top;\n",
       "    }\n",
       "\n",
       "    .dataframe thead th {\n",
       "        text-align: right;\n",
       "    }\n",
       "</style>\n",
       "<table border=\"1\" class=\"dataframe\">\n",
       "  <thead>\n",
       "    <tr style=\"text-align: right;\">\n",
       "      <th></th>\n",
       "      <th>original_title</th>\n",
       "      <th>release_date</th>\n",
       "    </tr>\n",
       "  </thead>\n",
       "  <tbody>\n",
       "    <tr>\n",
       "      <th>0</th>\n",
       "      <td>Brave</td>\n",
       "      <td>2012-06-21</td>\n",
       "    </tr>\n",
       "  </tbody>\n",
       "</table>\n",
       "</div>"
      ],
      "text/plain": [
       "  original_title release_date\n",
       "0          Brave   2012-06-21"
      ]
     },
     "execution_count": 80,
     "metadata": {},
     "output_type": "execute_result"
    }
   ],
   "source": [
    "cur.execute(\"SELECT original_title,release_date FROM movies JOIN directors ON directors.id = movies.director_id WHERE directors.name = 'Brenda Chapman'\")\n",
    "movies = cur.fetchall()\n",
    "movies = pd.DataFrame(movies, columns = ['original_title', 'release_date'])\n",
    "print('Shape of Movies directed by brenda chapman data :',movies.shape)\n",
    "movies.head(100)"
   ]
  },
  {
   "cell_type": "markdown",
   "metadata": {
    "id": "0hZzwGGog4LT"
   },
   "source": [
    "note: The movie name directed by brenda chapman is Brave. Released on 2012-06-21."
   ]
  },
  {
   "cell_type": "markdown",
   "metadata": {
    "id": "-FdkeMHOg4LT"
   },
   "source": [
    "## Question 12: Which director made the most movies?"
   ]
  },
  {
   "cell_type": "code",
   "execution_count": null,
   "metadata": {
    "id": "hxw2z05Kg4LT",
    "outputId": "1865c94b-806c-42d3-b271-bd204bd48316"
   },
   "outputs": [
    {
     "name": "stdout",
     "output_type": "stream",
     "text": [
      "Shape of Movies_count data : (2349, 2)\n"
     ]
    },
    {
     "data": {
      "text/html": [
       "<div>\n",
       "<style scoped>\n",
       "    .dataframe tbody tr th:only-of-type {\n",
       "        vertical-align: middle;\n",
       "    }\n",
       "\n",
       "    .dataframe tbody tr th {\n",
       "        vertical-align: top;\n",
       "    }\n",
       "\n",
       "    .dataframe thead th {\n",
       "        text-align: right;\n",
       "    }\n",
       "</style>\n",
       "<table border=\"1\" class=\"dataframe\">\n",
       "  <thead>\n",
       "    <tr style=\"text-align: right;\">\n",
       "      <th></th>\n",
       "      <th>director_name</th>\n",
       "      <th>movies_count</th>\n",
       "    </tr>\n",
       "  </thead>\n",
       "  <tbody>\n",
       "    <tr>\n",
       "      <th>0</th>\n",
       "      <td>Steven Spielberg</td>\n",
       "      <td>27</td>\n",
       "    </tr>\n",
       "  </tbody>\n",
       "</table>\n",
       "</div>"
      ],
      "text/plain": [
       "      director_name  movies_count\n",
       "0  Steven Spielberg            27"
      ]
     },
     "execution_count": 79,
     "metadata": {},
     "output_type": "execute_result"
    }
   ],
   "source": [
    "cur.execute(\"SELECT name, COUNT(director_id) FROM movies JOIN directors ON directors.id = movies.director_id GROUP BY director_id ORDER BY COUNT(director_id) DESC\")\n",
    "movies = cur.fetchall()\n",
    "movies = pd.DataFrame(movies, columns = ['director_name', 'movies_count'])\n",
    "print('Shape of Movies_count data :',movies.shape)\n",
    "movies.head(1)"
   ]
  },
  {
   "cell_type": "markdown",
   "metadata": {
    "id": "rjABwKNZg4LT"
   },
   "source": [
    "note: I have generated above table for the director who made the most movies. Ranking Director Steven spielberg at first position having movies_count 27."
   ]
  },
  {
   "cell_type": "markdown",
   "metadata": {
    "id": "z4dBUU_5g4LT"
   },
   "source": [
    "## Question 13: Whose director is the most bankable?"
   ]
  },
  {
   "cell_type": "code",
   "execution_count": null,
   "metadata": {
    "id": "17VCtdNmg4LT",
    "outputId": "c8d15d99-41db-472a-ee42-3cd7676fd597"
   },
   "outputs": [
    {
     "name": "stdout",
     "output_type": "stream",
     "text": [
      "Shape of Movies_bank data : (2349, 2)\n"
     ]
    },
    {
     "data": {
      "text/html": [
       "<div>\n",
       "<style scoped>\n",
       "    .dataframe tbody tr th:only-of-type {\n",
       "        vertical-align: middle;\n",
       "    }\n",
       "\n",
       "    .dataframe tbody tr th {\n",
       "        vertical-align: top;\n",
       "    }\n",
       "\n",
       "    .dataframe thead th {\n",
       "        text-align: right;\n",
       "    }\n",
       "</style>\n",
       "<table border=\"1\" class=\"dataframe\">\n",
       "  <thead>\n",
       "    <tr style=\"text-align: right;\">\n",
       "      <th></th>\n",
       "      <th>director_name</th>\n",
       "      <th>movies_bank</th>\n",
       "    </tr>\n",
       "  </thead>\n",
       "  <tbody>\n",
       "    <tr>\n",
       "      <th>0</th>\n",
       "      <td>Steven Spielberg</td>\n",
       "      <td>9147393164</td>\n",
       "    </tr>\n",
       "  </tbody>\n",
       "</table>\n",
       "</div>"
      ],
      "text/plain": [
       "      director_name  movies_bank\n",
       "0  Steven Spielberg   9147393164"
      ]
     },
     "execution_count": 86,
     "metadata": {},
     "output_type": "execute_result"
    }
   ],
   "source": [
    "cur.execute(\"SELECT name, SUM(revenue) FROM movies JOIN directors ON directors.id = movies.director_id GROUP BY director_id ORDER BY SUM(revenue) DESC\")\n",
    "movies = cur.fetchall()\n",
    "movies = pd.DataFrame(movies, columns = ['director_name', 'movies_bank'])\n",
    "print('Shape of Movies_bank data :',movies.shape)\n",
    "movies.head(1)"
   ]
  },
  {
   "cell_type": "markdown",
   "metadata": {
    "id": "j_XigbyZg4LT"
   },
   "source": [
    "note: I have generated the table for the director who is most bankable. steven spielberg is the most bankable"
   ]
  },
  {
   "cell_type": "markdown",
   "metadata": {
    "id": "Cn2o8VyAg4LU"
   },
   "source": [
    "## Budget Analysis\n",
    "## Question - List out Top 10 highest budget made movies\n"
   ]
  },
  {
   "cell_type": "code",
   "execution_count": null,
   "metadata": {
    "id": "GtwgMOeog4LU",
    "outputId": "5d972328-bc4b-43d3-f0db-848c81fcd5c5"
   },
   "outputs": [
    {
     "name": "stdout",
     "output_type": "stream",
     "text": [
      "Shape of highest budget movies data : (4773, 3)\n"
     ]
    },
    {
     "data": {
      "text/html": [
       "<div>\n",
       "<style scoped>\n",
       "    .dataframe tbody tr th:only-of-type {\n",
       "        vertical-align: middle;\n",
       "    }\n",
       "\n",
       "    .dataframe tbody tr th {\n",
       "        vertical-align: top;\n",
       "    }\n",
       "\n",
       "    .dataframe thead th {\n",
       "        text-align: right;\n",
       "    }\n",
       "</style>\n",
       "<table border=\"1\" class=\"dataframe\">\n",
       "  <thead>\n",
       "    <tr style=\"text-align: right;\">\n",
       "      <th></th>\n",
       "      <th>id</th>\n",
       "      <th>movie_name</th>\n",
       "      <th>budget</th>\n",
       "    </tr>\n",
       "  </thead>\n",
       "  <tbody>\n",
       "    <tr>\n",
       "      <th>0</th>\n",
       "      <td>43614</td>\n",
       "      <td>Pirates of the Caribbean: On Stranger Tides</td>\n",
       "      <td>380000000</td>\n",
       "    </tr>\n",
       "    <tr>\n",
       "      <th>1</th>\n",
       "      <td>43598</td>\n",
       "      <td>Pirates of the Caribbean: At World's End</td>\n",
       "      <td>300000000</td>\n",
       "    </tr>\n",
       "    <tr>\n",
       "      <th>2</th>\n",
       "      <td>43604</td>\n",
       "      <td>Avengers: Age of Ultron</td>\n",
       "      <td>280000000</td>\n",
       "    </tr>\n",
       "    <tr>\n",
       "      <th>3</th>\n",
       "      <td>43607</td>\n",
       "      <td>Superman Returns</td>\n",
       "      <td>270000000</td>\n",
       "    </tr>\n",
       "    <tr>\n",
       "      <th>4</th>\n",
       "      <td>43601</td>\n",
       "      <td>John Carter</td>\n",
       "      <td>260000000</td>\n",
       "    </tr>\n",
       "    <tr>\n",
       "      <th>5</th>\n",
       "      <td>43603</td>\n",
       "      <td>Tangled</td>\n",
       "      <td>260000000</td>\n",
       "    </tr>\n",
       "    <tr>\n",
       "      <th>6</th>\n",
       "      <td>43602</td>\n",
       "      <td>Spider-Man 3</td>\n",
       "      <td>258000000</td>\n",
       "    </tr>\n",
       "    <tr>\n",
       "      <th>7</th>\n",
       "      <td>43610</td>\n",
       "      <td>The Lone Ranger</td>\n",
       "      <td>255000000</td>\n",
       "    </tr>\n",
       "    <tr>\n",
       "      <th>8</th>\n",
       "      <td>43600</td>\n",
       "      <td>The Dark Knight Rises</td>\n",
       "      <td>250000000</td>\n",
       "    </tr>\n",
       "    <tr>\n",
       "      <th>9</th>\n",
       "      <td>43605</td>\n",
       "      <td>Harry Potter and the Half-Blood Prince</td>\n",
       "      <td>250000000</td>\n",
       "    </tr>\n",
       "  </tbody>\n",
       "</table>\n",
       "</div>"
      ],
      "text/plain": [
       "      id                                   movie_name     budget\n",
       "0  43614  Pirates of the Caribbean: On Stranger Tides  380000000\n",
       "1  43598     Pirates of the Caribbean: At World's End  300000000\n",
       "2  43604                      Avengers: Age of Ultron  280000000\n",
       "3  43607                             Superman Returns  270000000\n",
       "4  43601                                  John Carter  260000000\n",
       "5  43603                                      Tangled  260000000\n",
       "6  43602                                 Spider-Man 3  258000000\n",
       "7  43610                              The Lone Ranger  255000000\n",
       "8  43600                        The Dark Knight Rises  250000000\n",
       "9  43605       Harry Potter and the Half-Blood Prince  250000000"
      ]
     },
     "execution_count": 88,
     "metadata": {},
     "output_type": "execute_result"
    }
   ],
   "source": [
    "cur.execute(\"select id,original_title,budget from movies order by budget desc\")\n",
    "movies = cur.fetchall()\n",
    "movies = pd.DataFrame(movies, columns = ['id','movie_name', 'budget'])\n",
    "print('Shape of highest budget movies data :',movies.shape)\n",
    "movies.head(10)"
   ]
  },
  {
   "cell_type": "markdown",
   "metadata": {
    "id": "zeIXDvuMg4LU"
   },
   "source": [
    "note: I have generated the above table to list out top 10 highest budget movies."
   ]
  },
  {
   "cell_type": "markdown",
   "metadata": {
    "id": "ZC0KGDQsg4LY"
   },
   "source": [
    "## Popularity Analysis\n",
    "Question- List out Top 10 popularity on movies\n"
   ]
  },
  {
   "cell_type": "code",
   "execution_count": null,
   "metadata": {
    "id": "X2uQ76Hrg4LY",
    "outputId": "284cea55-a8c3-47e0-c432-8635a95711a6"
   },
   "outputs": [
    {
     "name": "stdout",
     "output_type": "stream",
     "text": [
      "Shape of Movies_popularity data : (4773, 3)\n"
     ]
    },
    {
     "data": {
      "text/html": [
       "<div>\n",
       "<style scoped>\n",
       "    .dataframe tbody tr th:only-of-type {\n",
       "        vertical-align: middle;\n",
       "    }\n",
       "\n",
       "    .dataframe tbody tr th {\n",
       "        vertical-align: top;\n",
       "    }\n",
       "\n",
       "    .dataframe thead th {\n",
       "        text-align: right;\n",
       "    }\n",
       "</style>\n",
       "<table border=\"1\" class=\"dataframe\">\n",
       "  <thead>\n",
       "    <tr style=\"text-align: right;\">\n",
       "      <th></th>\n",
       "      <th>id</th>\n",
       "      <th>movie_name</th>\n",
       "      <th>popularity</th>\n",
       "    </tr>\n",
       "  </thead>\n",
       "  <tbody>\n",
       "    <tr>\n",
       "      <th>0</th>\n",
       "      <td>44143</td>\n",
       "      <td>Minions</td>\n",
       "      <td>875</td>\n",
       "    </tr>\n",
       "    <tr>\n",
       "      <th>1</th>\n",
       "      <td>43692</td>\n",
       "      <td>Interstellar</td>\n",
       "      <td>724</td>\n",
       "    </tr>\n",
       "    <tr>\n",
       "      <th>2</th>\n",
       "      <td>44385</td>\n",
       "      <td>Deadpool</td>\n",
       "      <td>514</td>\n",
       "    </tr>\n",
       "    <tr>\n",
       "      <th>3</th>\n",
       "      <td>43691</td>\n",
       "      <td>Guardians of the Galaxy</td>\n",
       "      <td>481</td>\n",
       "    </tr>\n",
       "    <tr>\n",
       "      <th>4</th>\n",
       "      <td>43724</td>\n",
       "      <td>Mad Max: Fury Road</td>\n",
       "      <td>434</td>\n",
       "    </tr>\n",
       "    <tr>\n",
       "      <th>5</th>\n",
       "      <td>43625</td>\n",
       "      <td>Jurassic World</td>\n",
       "      <td>418</td>\n",
       "    </tr>\n",
       "    <tr>\n",
       "      <th>6</th>\n",
       "      <td>43796</td>\n",
       "      <td>Pirates of the Caribbean: The Curse of the Bla...</td>\n",
       "      <td>271</td>\n",
       "    </tr>\n",
       "    <tr>\n",
       "      <th>7</th>\n",
       "      <td>43679</td>\n",
       "      <td>Dawn of the Planet of the Apes</td>\n",
       "      <td>243</td>\n",
       "    </tr>\n",
       "    <tr>\n",
       "      <th>8</th>\n",
       "      <td>43797</td>\n",
       "      <td>The Hunger Games: Mockingjay - Part 1</td>\n",
       "      <td>206</td>\n",
       "    </tr>\n",
       "    <tr>\n",
       "      <th>9</th>\n",
       "      <td>43685</td>\n",
       "      <td>Big Hero 6</td>\n",
       "      <td>203</td>\n",
       "    </tr>\n",
       "  </tbody>\n",
       "</table>\n",
       "</div>"
      ],
      "text/plain": [
       "      id                                         movie_name  popularity\n",
       "0  44143                                            Minions         875\n",
       "1  43692                                       Interstellar         724\n",
       "2  44385                                           Deadpool         514\n",
       "3  43691                            Guardians of the Galaxy         481\n",
       "4  43724                                 Mad Max: Fury Road         434\n",
       "5  43625                                     Jurassic World         418\n",
       "6  43796  Pirates of the Caribbean: The Curse of the Bla...         271\n",
       "7  43679                     Dawn of the Planet of the Apes         243\n",
       "8  43797              The Hunger Games: Mockingjay - Part 1         206\n",
       "9  43685                                         Big Hero 6         203"
      ]
     },
     "execution_count": 90,
     "metadata": {},
     "output_type": "execute_result"
    }
   ],
   "source": [
    "cur.execute(\"select id,original_title,popularity from movies order by popularity desc\")\n",
    "movies = cur.fetchall()\n",
    "movies = pd.DataFrame(movies, columns = ['id','movie_name', 'popularity'])\n",
    "print('Shape of Movies_popularity data :',movies.shape)\n",
    "movies.head(10)"
   ]
  },
  {
   "cell_type": "markdown",
   "metadata": {
    "id": "Cr-TkJUPg4LY"
   },
   "source": [
    "note: I have generated the table for 10 most popular movies."
   ]
  },
  {
   "cell_type": "markdown",
   "metadata": {
    "id": "PKUCVrgrg4LY"
   },
   "source": [
    "## Revenue Analysis\n",
    "## Question - What are the top 10 Revenue movies\n"
   ]
  },
  {
   "cell_type": "code",
   "execution_count": null,
   "metadata": {
    "id": "a_kpmSeJg4LY",
    "outputId": "c460e88f-2f7e-4708-b97f-c44d31457036"
   },
   "outputs": [
    {
     "name": "stdout",
     "output_type": "stream",
     "text": [
      "Shape of top_revenue data : (4773, 3)\n"
     ]
    },
    {
     "data": {
      "text/html": [
       "<div>\n",
       "<style scoped>\n",
       "    .dataframe tbody tr th:only-of-type {\n",
       "        vertical-align: middle;\n",
       "    }\n",
       "\n",
       "    .dataframe tbody tr th {\n",
       "        vertical-align: top;\n",
       "    }\n",
       "\n",
       "    .dataframe thead th {\n",
       "        text-align: right;\n",
       "    }\n",
       "</style>\n",
       "<table border=\"1\" class=\"dataframe\">\n",
       "  <thead>\n",
       "    <tr style=\"text-align: right;\">\n",
       "      <th></th>\n",
       "      <th>id</th>\n",
       "      <th>original_title</th>\n",
       "      <th>revenue</th>\n",
       "    </tr>\n",
       "  </thead>\n",
       "  <tbody>\n",
       "    <tr>\n",
       "      <th>0</th>\n",
       "      <td>43597</td>\n",
       "      <td>Avatar</td>\n",
       "      <td>2787965087</td>\n",
       "    </tr>\n",
       "    <tr>\n",
       "      <th>1</th>\n",
       "      <td>43622</td>\n",
       "      <td>Titanic</td>\n",
       "      <td>1845034188</td>\n",
       "    </tr>\n",
       "    <tr>\n",
       "      <th>2</th>\n",
       "      <td>43613</td>\n",
       "      <td>The Avengers</td>\n",
       "      <td>1519557910</td>\n",
       "    </tr>\n",
       "    <tr>\n",
       "      <th>3</th>\n",
       "      <td>43625</td>\n",
       "      <td>Jurassic World</td>\n",
       "      <td>1513528810</td>\n",
       "    </tr>\n",
       "    <tr>\n",
       "      <th>4</th>\n",
       "      <td>43641</td>\n",
       "      <td>Furious 7</td>\n",
       "      <td>1506249360</td>\n",
       "    </tr>\n",
       "    <tr>\n",
       "      <th>5</th>\n",
       "      <td>43604</td>\n",
       "      <td>Avengers: Age of Ultron</td>\n",
       "      <td>1405403694</td>\n",
       "    </tr>\n",
       "    <tr>\n",
       "      <th>6</th>\n",
       "      <td>43721</td>\n",
       "      <td>Frozen</td>\n",
       "      <td>1274219009</td>\n",
       "    </tr>\n",
       "    <tr>\n",
       "      <th>7</th>\n",
       "      <td>43628</td>\n",
       "      <td>Iron Man 3</td>\n",
       "      <td>1215439994</td>\n",
       "    </tr>\n",
       "    <tr>\n",
       "      <th>8</th>\n",
       "      <td>44143</td>\n",
       "      <td>Minions</td>\n",
       "      <td>1156730962</td>\n",
       "    </tr>\n",
       "    <tr>\n",
       "      <th>9</th>\n",
       "      <td>43623</td>\n",
       "      <td>Captain America: Civil War</td>\n",
       "      <td>1153304495</td>\n",
       "    </tr>\n",
       "  </tbody>\n",
       "</table>\n",
       "</div>"
      ],
      "text/plain": [
       "      id              original_title     revenue\n",
       "0  43597                      Avatar  2787965087\n",
       "1  43622                     Titanic  1845034188\n",
       "2  43613                The Avengers  1519557910\n",
       "3  43625              Jurassic World  1513528810\n",
       "4  43641                   Furious 7  1506249360\n",
       "5  43604     Avengers: Age of Ultron  1405403694\n",
       "6  43721                      Frozen  1274219009\n",
       "7  43628                  Iron Man 3  1215439994\n",
       "8  44143                     Minions  1156730962\n",
       "9  43623  Captain America: Civil War  1153304495"
      ]
     },
     "execution_count": 91,
     "metadata": {},
     "output_type": "execute_result"
    }
   ],
   "source": [
    "cur.execute('select id,original_title,revenue from movies order by revenue desc')\n",
    "movies = cur.fetchall()\n",
    "movies = pd.DataFrame(movies, columns = ['id', 'original_title', 'revenue'])\n",
    "print('Shape of top_revenue data :',movies.shape)\n",
    "movies.head(10)"
   ]
  },
  {
   "cell_type": "markdown",
   "metadata": {
    "id": "gE0PqCUxg4LY"
   },
   "source": [
    "note: I have generated table for top 10 revenue movies"
   ]
  },
  {
   "cell_type": "markdown",
   "metadata": {
    "id": "_t3U-h17g4LY"
   },
   "source": [
    "## Voting Analysis\n",
    "## Question - Display most popular movies with vote_average\n"
   ]
  },
  {
   "cell_type": "code",
   "execution_count": null,
   "metadata": {
    "id": "5bWJXJD4g4LY",
    "outputId": "d5b4abb9-7f66-42e0-c25a-b87a7dde1822"
   },
   "outputs": [
    {
     "name": "stdout",
     "output_type": "stream",
     "text": [
      "Shape of vote_average data : (4773, 3)\n"
     ]
    },
    {
     "data": {
      "text/html": [
       "<div>\n",
       "<style scoped>\n",
       "    .dataframe tbody tr th:only-of-type {\n",
       "        vertical-align: middle;\n",
       "    }\n",
       "\n",
       "    .dataframe tbody tr th {\n",
       "        vertical-align: top;\n",
       "    }\n",
       "\n",
       "    .dataframe thead th {\n",
       "        text-align: right;\n",
       "    }\n",
       "</style>\n",
       "<table border=\"1\" class=\"dataframe\">\n",
       "  <thead>\n",
       "    <tr style=\"text-align: right;\">\n",
       "      <th></th>\n",
       "      <th>id</th>\n",
       "      <th>original_title</th>\n",
       "      <th>vote_average</th>\n",
       "    </tr>\n",
       "  </thead>\n",
       "  <tbody>\n",
       "    <tr>\n",
       "      <th>0</th>\n",
       "      <td>47116</td>\n",
       "      <td>Stiff Upper Lips</td>\n",
       "      <td>10.0</td>\n",
       "    </tr>\n",
       "    <tr>\n",
       "      <th>1</th>\n",
       "      <td>47642</td>\n",
       "      <td>Dancer, Texas Pop. 81</td>\n",
       "      <td>10.0</td>\n",
       "    </tr>\n",
       "    <tr>\n",
       "      <th>2</th>\n",
       "      <td>47589</td>\n",
       "      <td>Sardaarji</td>\n",
       "      <td>9.5</td>\n",
       "    </tr>\n",
       "    <tr>\n",
       "      <th>3</th>\n",
       "      <td>45983</td>\n",
       "      <td>One Man's Hero</td>\n",
       "      <td>9.3</td>\n",
       "    </tr>\n",
       "    <tr>\n",
       "      <th>4</th>\n",
       "      <td>45478</td>\n",
       "      <td>The Shawshank Redemption</td>\n",
       "      <td>8.5</td>\n",
       "    </tr>\n",
       "    <tr>\n",
       "      <th>5</th>\n",
       "      <td>46567</td>\n",
       "      <td>There Goes My Baby</td>\n",
       "      <td>8.5</td>\n",
       "    </tr>\n",
       "    <tr>\n",
       "      <th>6</th>\n",
       "      <td>46393</td>\n",
       "      <td>The Prisoner of Zenda</td>\n",
       "      <td>8.4</td>\n",
       "    </tr>\n",
       "    <tr>\n",
       "      <th>7</th>\n",
       "      <td>46934</td>\n",
       "      <td>The Godfather</td>\n",
       "      <td>8.4</td>\n",
       "    </tr>\n",
       "    <tr>\n",
       "      <th>8</th>\n",
       "      <td>44259</td>\n",
       "      <td>Fight Club</td>\n",
       "      <td>8.3</td>\n",
       "    </tr>\n",
       "    <tr>\n",
       "      <th>9</th>\n",
       "      <td>45415</td>\n",
       "      <td>Schindler's List</td>\n",
       "      <td>8.3</td>\n",
       "    </tr>\n",
       "  </tbody>\n",
       "</table>\n",
       "</div>"
      ],
      "text/plain": [
       "      id            original_title  vote_average\n",
       "0  47116          Stiff Upper Lips          10.0\n",
       "1  47642     Dancer, Texas Pop. 81          10.0\n",
       "2  47589                 Sardaarji           9.5\n",
       "3  45983            One Man's Hero           9.3\n",
       "4  45478  The Shawshank Redemption           8.5\n",
       "5  46567        There Goes My Baby           8.5\n",
       "6  46393     The Prisoner of Zenda           8.4\n",
       "7  46934             The Godfather           8.4\n",
       "8  44259                Fight Club           8.3\n",
       "9  45415          Schindler's List           8.3"
      ]
     },
     "execution_count": 92,
     "metadata": {},
     "output_type": "execute_result"
    }
   ],
   "source": [
    "cur.execute(\"SELECT id, original_title,vote_average FROM movies order by vote_average desc\")\n",
    "movies = cur.fetchall()\n",
    "movies = pd.DataFrame(movies, columns = ['id', 'original_title','vote_average'])\n",
    "print('Shape of vote_average data :',movies.shape)\n",
    "movies.head(10)"
   ]
  },
  {
   "cell_type": "markdown",
   "metadata": {
    "id": "qR4MS9uNg4LZ"
   },
   "source": [
    "note: I have generated the table for most popular movies by vote average"
   ]
  },
  {
   "cell_type": "markdown",
   "metadata": {
    "id": "zmnT6yEOg4LZ"
   },
   "source": [
    "## Question - List out Particular movie for Voting average and votecount"
   ]
  },
  {
   "cell_type": "code",
   "execution_count": null,
   "metadata": {
    "id": "9XqdSRLLg4LZ",
    "outputId": "4f98ec58-8ee8-40b3-d063-48c6fc210f21"
   },
   "outputs": [
    {
     "name": "stdout",
     "output_type": "stream",
     "text": [
      "Shape of movie data : (0, 3)\n"
     ]
    },
    {
     "data": {
      "text/html": [
       "<div>\n",
       "<style scoped>\n",
       "    .dataframe tbody tr th:only-of-type {\n",
       "        vertical-align: middle;\n",
       "    }\n",
       "\n",
       "    .dataframe tbody tr th {\n",
       "        vertical-align: top;\n",
       "    }\n",
       "\n",
       "    .dataframe thead th {\n",
       "        text-align: right;\n",
       "    }\n",
       "</style>\n",
       "<table border=\"1\" class=\"dataframe\">\n",
       "  <thead>\n",
       "    <tr style=\"text-align: right;\">\n",
       "      <th></th>\n",
       "      <th>original_title</th>\n",
       "      <th>vote_average</th>\n",
       "      <th>vote_count</th>\n",
       "    </tr>\n",
       "  </thead>\n",
       "  <tbody>\n",
       "  </tbody>\n",
       "</table>\n",
       "</div>"
      ],
      "text/plain": [
       "Empty DataFrame\n",
       "Columns: [original_title, vote_average, vote_count]\n",
       "Index: []"
      ]
     },
     "execution_count": 96,
     "metadata": {},
     "output_type": "execute_result"
    }
   ],
   "source": [
    "cur.execute(\"SELECT title, vote_average, vote_count FROM movies WHERE title = 'Your Movie Title'\")\n",
    "movies = cur.fetchall()\n",
    "movies = pd.DataFrame(movies, columns = ['original_title','vote_average','vote_count'])\n",
    "print('Shape of movie data :',movies.shape)\n",
    "movies.head(1)"
   ]
  },
  {
   "cell_type": "markdown",
   "metadata": {
    "id": "YBIhRKEMg4LZ"
   },
   "source": [
    "note: Here's the code to list a particular movie along with its voting average and vote count. Just Replace 'Your Movie Title' with the title of the specific movie you want to retrieve information for."
   ]
  },
  {
   "cell_type": "markdown",
   "metadata": {
    "id": "MUhgUiwNg4LZ"
   },
   "source": [
    "## Directors Analysis\n",
    "## Question- List out the director names with number of movies and revenue\n"
   ]
  },
  {
   "cell_type": "code",
   "execution_count": null,
   "metadata": {
    "id": "Cq8KTpvvg4LZ",
    "outputId": "3b4797f1-3875-4e8f-d232-2d36c8edbbe7"
   },
   "outputs": [
    {
     "name": "stdout",
     "output_type": "stream",
     "text": [
      "Shape of Movies_count data : (2349, 3)\n"
     ]
    },
    {
     "data": {
      "text/html": [
       "<div>\n",
       "<style scoped>\n",
       "    .dataframe tbody tr th:only-of-type {\n",
       "        vertical-align: middle;\n",
       "    }\n",
       "\n",
       "    .dataframe tbody tr th {\n",
       "        vertical-align: top;\n",
       "    }\n",
       "\n",
       "    .dataframe thead th {\n",
       "        text-align: right;\n",
       "    }\n",
       "</style>\n",
       "<table border=\"1\" class=\"dataframe\">\n",
       "  <thead>\n",
       "    <tr style=\"text-align: right;\">\n",
       "      <th></th>\n",
       "      <th>director_name</th>\n",
       "      <th>movies_count</th>\n",
       "      <th>revenue</th>\n",
       "    </tr>\n",
       "  </thead>\n",
       "  <tbody>\n",
       "    <tr>\n",
       "      <th>0</th>\n",
       "      <td>Byron Howard</td>\n",
       "      <td>1</td>\n",
       "      <td>591794936</td>\n",
       "    </tr>\n",
       "    <tr>\n",
       "      <th>1</th>\n",
       "      <td>Dan Scanlon</td>\n",
       "      <td>1</td>\n",
       "      <td>743559607</td>\n",
       "    </tr>\n",
       "    <tr>\n",
       "      <th>2</th>\n",
       "      <td>Lee Unkrich</td>\n",
       "      <td>1</td>\n",
       "      <td>1066969703</td>\n",
       "    </tr>\n",
       "    <tr>\n",
       "      <th>3</th>\n",
       "      <td>Peter Sohn</td>\n",
       "      <td>1</td>\n",
       "      <td>331926147</td>\n",
       "    </tr>\n",
       "    <tr>\n",
       "      <th>4</th>\n",
       "      <td>Brenda Chapman</td>\n",
       "      <td>1</td>\n",
       "      <td>538983207</td>\n",
       "    </tr>\n",
       "    <tr>\n",
       "      <th>...</th>\n",
       "      <td>...</td>\n",
       "      <td>...</td>\n",
       "      <td>...</td>\n",
       "    </tr>\n",
       "    <tr>\n",
       "      <th>2344</th>\n",
       "      <td>Spike Lee</td>\n",
       "      <td>16</td>\n",
       "      <td>184376254</td>\n",
       "    </tr>\n",
       "    <tr>\n",
       "      <th>2345</th>\n",
       "      <td>Martin Scorsese</td>\n",
       "      <td>20</td>\n",
       "      <td>185770160</td>\n",
       "    </tr>\n",
       "    <tr>\n",
       "      <th>2346</th>\n",
       "      <td>Clint Eastwood</td>\n",
       "      <td>20</td>\n",
       "      <td>128884132</td>\n",
       "    </tr>\n",
       "    <tr>\n",
       "      <th>2347</th>\n",
       "      <td>Woody Allen</td>\n",
       "      <td>21</td>\n",
       "      <td>151119219</td>\n",
       "    </tr>\n",
       "    <tr>\n",
       "      <th>2348</th>\n",
       "      <td>Steven Spielberg</td>\n",
       "      <td>27</td>\n",
       "      <td>786636033</td>\n",
       "    </tr>\n",
       "  </tbody>\n",
       "</table>\n",
       "<p>2349 rows × 3 columns</p>\n",
       "</div>"
      ],
      "text/plain": [
       "         director_name  movies_count     revenue\n",
       "0         Byron Howard             1   591794936\n",
       "1          Dan Scanlon             1   743559607\n",
       "2          Lee Unkrich             1  1066969703\n",
       "3           Peter Sohn             1   331926147\n",
       "4       Brenda Chapman             1   538983207\n",
       "...                ...           ...         ...\n",
       "2344         Spike Lee            16   184376254\n",
       "2345   Martin Scorsese            20   185770160\n",
       "2346    Clint Eastwood            20   128884132\n",
       "2347       Woody Allen            21   151119219\n",
       "2348  Steven Spielberg            27   786636033\n",
       "\n",
       "[2349 rows x 3 columns]"
      ]
     },
     "execution_count": 99,
     "metadata": {},
     "output_type": "execute_result"
    }
   ],
   "source": [
    "cur.execute(\"SELECT name, COUNT(director_id),revenue FROM movies JOIN directors ON directors.id = movies.director_id GROUP BY director_id ORDER BY COUNT(director_id)\")\n",
    "movies = cur.fetchall()\n",
    "movies = pd.DataFrame(movies, columns = ['director_name', 'movies_count','revenue'])\n",
    "print('Shape of Movies_count data :',movies.shape)\n",
    "movies.head(4773)"
   ]
  },
  {
   "cell_type": "markdown",
   "metadata": {
    "id": "WMwExhxfg4LZ"
   },
   "source": [
    "note: I have generated the table for directors with their movie count and revenue."
   ]
  }
 ],
 "metadata": {
  "colab": {
   "provenance": []
  },
  "kernelspec": {
   "display_name": "Python 3 (ipykernel)",
   "language": "python",
   "name": "python3"
  },
  "language_info": {
   "codemirror_mode": {
    "name": "ipython",
    "version": 3
   },
   "file_extension": ".py",
   "mimetype": "text/x-python",
   "name": "python",
   "nbconvert_exporter": "python",
   "pygments_lexer": "ipython3",
   "version": "3.11.5"
  }
 },
 "nbformat": 4,
 "nbformat_minor": 1
}
