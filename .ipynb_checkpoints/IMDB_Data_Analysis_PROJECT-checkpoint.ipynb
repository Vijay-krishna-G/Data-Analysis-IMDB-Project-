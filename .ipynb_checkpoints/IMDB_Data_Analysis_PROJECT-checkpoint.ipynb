{
 "cells": [
  {
   "cell_type": "code",
   "execution_count": 1,
   "id": "da65a56d",
   "metadata": {},
   "outputs": [],
   "source": [
    "# Import Pandas and NumPy\n",
    "\n",
    "import numpy as np\n",
    "import pandas as pd\n",
    "\n",
    "#pip install db-sqlite3\n",
    "#SQLite in general is a server-less database that you can use within almost all programming languages including Python.\n",
    "import sqlite3\n"
   ]
  },
  {
   "cell_type": "code",
   "execution_count": 2,
   "id": "d7bb455a",
   "metadata": {},
   "outputs": [],
   "source": [
    "db = 'movies.sqlite'\n",
    "\n",
    "\n",
    "conn = sqlite3.connect(db)\n",
    "cur = conn.cursor()"
   ]
  },
  {
   "cell_type": "markdown",
   "id": "bcd9e6ca",
   "metadata": {},
   "source": [
    "# # Question 3: Check how many movies are present in IMDB."
   ]
  },
  {
   "cell_type": "code",
   "execution_count": 3,
   "id": "d61516cc",
   "metadata": {},
   "outputs": [
    {
     "name": "stdout",
     "output_type": "stream",
     "text": [
      "Total number of movies present in IMDB : (4773, 13)\n"
     ]
    },
    {
     "data": {
      "text/html": [
       "<div>\n",
       "<style scoped>\n",
       "    .dataframe tbody tr th:only-of-type {\n",
       "        vertical-align: middle;\n",
       "    }\n",
       "\n",
       "    .dataframe tbody tr th {\n",
       "        vertical-align: top;\n",
       "    }\n",
       "\n",
       "    .dataframe thead th {\n",
       "        text-align: right;\n",
       "    }\n",
       "</style>\n",
       "<table border=\"1\" class=\"dataframe\">\n",
       "  <thead>\n",
       "    <tr style=\"text-align: right;\">\n",
       "      <th></th>\n",
       "      <th>id</th>\n",
       "      <th>original_title</th>\n",
       "      <th>budget</th>\n",
       "      <th>popularity</th>\n",
       "      <th>release_date</th>\n",
       "      <th>revenue</th>\n",
       "      <th>title</th>\n",
       "      <th>vote_average</th>\n",
       "      <th>vote_count</th>\n",
       "      <th>overview</th>\n",
       "      <th>tagline</th>\n",
       "      <th>uid</th>\n",
       "      <th>director_id</th>\n",
       "    </tr>\n",
       "  </thead>\n",
       "  <tbody>\n",
       "    <tr>\n",
       "      <th>0</th>\n",
       "      <td>43597</td>\n",
       "      <td>Avatar</td>\n",
       "      <td>237000000</td>\n",
       "      <td>150</td>\n",
       "      <td>2009-12-10</td>\n",
       "      <td>2787965087</td>\n",
       "      <td>Avatar</td>\n",
       "      <td>7.2</td>\n",
       "      <td>11800</td>\n",
       "      <td>In the 22nd century, a paraplegic Marine is di...</td>\n",
       "      <td>Enter the World of Pandora.</td>\n",
       "      <td>19995</td>\n",
       "      <td>4762</td>\n",
       "    </tr>\n",
       "    <tr>\n",
       "      <th>1</th>\n",
       "      <td>43598</td>\n",
       "      <td>Pirates of the Caribbean: At World's End</td>\n",
       "      <td>300000000</td>\n",
       "      <td>139</td>\n",
       "      <td>2007-05-19</td>\n",
       "      <td>961000000</td>\n",
       "      <td>Pirates of the Caribbean: At World's End</td>\n",
       "      <td>6.9</td>\n",
       "      <td>4500</td>\n",
       "      <td>Captain Barbossa, long believed to be dead, ha...</td>\n",
       "      <td>At the end of the world, the adventure begins.</td>\n",
       "      <td>285</td>\n",
       "      <td>4763</td>\n",
       "    </tr>\n",
       "    <tr>\n",
       "      <th>2</th>\n",
       "      <td>43599</td>\n",
       "      <td>Spectre</td>\n",
       "      <td>245000000</td>\n",
       "      <td>107</td>\n",
       "      <td>2015-10-26</td>\n",
       "      <td>880674609</td>\n",
       "      <td>Spectre</td>\n",
       "      <td>6.3</td>\n",
       "      <td>4466</td>\n",
       "      <td>A cryptic message from Bond’s past sends him o...</td>\n",
       "      <td>A Plan No One Escapes</td>\n",
       "      <td>206647</td>\n",
       "      <td>4764</td>\n",
       "    </tr>\n",
       "    <tr>\n",
       "      <th>3</th>\n",
       "      <td>43600</td>\n",
       "      <td>The Dark Knight Rises</td>\n",
       "      <td>250000000</td>\n",
       "      <td>112</td>\n",
       "      <td>2012-07-16</td>\n",
       "      <td>1084939099</td>\n",
       "      <td>The Dark Knight Rises</td>\n",
       "      <td>7.6</td>\n",
       "      <td>9106</td>\n",
       "      <td>Following the death of District Attorney Harve...</td>\n",
       "      <td>The Legend Ends</td>\n",
       "      <td>49026</td>\n",
       "      <td>4765</td>\n",
       "    </tr>\n",
       "    <tr>\n",
       "      <th>4</th>\n",
       "      <td>43601</td>\n",
       "      <td>John Carter</td>\n",
       "      <td>260000000</td>\n",
       "      <td>43</td>\n",
       "      <td>2012-03-07</td>\n",
       "      <td>284139100</td>\n",
       "      <td>John Carter</td>\n",
       "      <td>6.1</td>\n",
       "      <td>2124</td>\n",
       "      <td>John Carter is a war-weary, former military ca...</td>\n",
       "      <td>Lost in our world, found in another.</td>\n",
       "      <td>49529</td>\n",
       "      <td>4766</td>\n",
       "    </tr>\n",
       "  </tbody>\n",
       "</table>\n",
       "</div>"
      ],
      "text/plain": [
       "      id                            original_title     budget  popularity  \\\n",
       "0  43597                                    Avatar  237000000         150   \n",
       "1  43598  Pirates of the Caribbean: At World's End  300000000         139   \n",
       "2  43599                                   Spectre  245000000         107   \n",
       "3  43600                     The Dark Knight Rises  250000000         112   \n",
       "4  43601                               John Carter  260000000          43   \n",
       "\n",
       "  release_date     revenue                                     title  \\\n",
       "0   2009-12-10  2787965087                                    Avatar   \n",
       "1   2007-05-19   961000000  Pirates of the Caribbean: At World's End   \n",
       "2   2015-10-26   880674609                                   Spectre   \n",
       "3   2012-07-16  1084939099                     The Dark Knight Rises   \n",
       "4   2012-03-07   284139100                               John Carter   \n",
       "\n",
       "   vote_average  vote_count  \\\n",
       "0           7.2       11800   \n",
       "1           6.9        4500   \n",
       "2           6.3        4466   \n",
       "3           7.6        9106   \n",
       "4           6.1        2124   \n",
       "\n",
       "                                            overview  \\\n",
       "0  In the 22nd century, a paraplegic Marine is di...   \n",
       "1  Captain Barbossa, long believed to be dead, ha...   \n",
       "2  A cryptic message from Bond’s past sends him o...   \n",
       "3  Following the death of District Attorney Harve...   \n",
       "4  John Carter is a war-weary, former military ca...   \n",
       "\n",
       "                                          tagline     uid  director_id  \n",
       "0                     Enter the World of Pandora.   19995         4762  \n",
       "1  At the end of the world, the adventure begins.     285         4763  \n",
       "2                           A Plan No One Escapes  206647         4764  \n",
       "3                                 The Legend Ends   49026         4765  \n",
       "4            Lost in our world, found in another.   49529         4766  "
      ]
     },
     "execution_count": 3,
     "metadata": {},
     "output_type": "execute_result"
    }
   ],
   "source": [
    "cur.execute('SELECT * FROM movies')\n",
    "#use the cursor object to call the execute() method to execute any SQL queries.\n",
    "movies = cur.fetchall()\n",
    "\n",
    "#movies -> if u print movies , all the data shown in list manner, can't understanadble\n",
    "\n",
    "#Note - fetchall() --> fetch all rows for the current query, if no rows avaliable then,it returns an empty list.\n",
    "\n",
    "movies = pd.DataFrame(movies, columns = ['id', 'original_title', 'budget', 'popularity', 'release_date', 'revenue', 'title', 'vote_average', 'vote_count', 'overview', 'tagline', 'uid', 'director_id'])\n",
    "#Creating a dataframe, A dataframe contains rows and columns , It is a Two-dimensional, size-mutable, potentially heterogeneous tabular data.\n",
    "\n",
    "\n",
    "\n",
    "print('Total number of movies present in IMDB :',movies.shape)\n",
    "movies.head()\n",
    "#movies.count()\n",
    "#movies.info()\n",
    "#Displays first 3 rows in the table\n"
   ]
  },
  {
   "cell_type": "markdown",
   "id": "3dd180f3",
   "metadata": {},
   "source": [
    "ANALYSIS :-I selected the table movies  with columns contains id, original_title, budget, popularity,release_date, revenue, title, vote_average,\tvote_count,\toverview, tagline, uid, director_id,   \n",
    "\n",
    "After analyzing the data I fount that,\n",
    "\n",
    "Total number of movies present in IMDB : 4773 13"
   ]
  },
  {
   "cell_type": "markdown",
   "id": "a30a11b7",
   "metadata": {},
   "source": []
  },
  {
   "cell_type": "markdown",
   "id": "d9c31a4c",
   "metadata": {},
   "source": [
    "# Question 4: Find these 3 directors: James Cameron ; Luc Besson ; John Woo"
   ]
  },
  {
   "cell_type": "code",
   "execution_count": 4,
   "id": "75c0abd4",
   "metadata": {},
   "outputs": [
    {
     "name": "stdout",
     "output_type": "stream",
     "text": [
      "Find these 3 directors: James Cameron ; Luc Besson ; John Woo : (3, 5)\n"
     ]
    },
    {
     "data": {
      "text/html": [
       "<div>\n",
       "<style scoped>\n",
       "    .dataframe tbody tr th:only-of-type {\n",
       "        vertical-align: middle;\n",
       "    }\n",
       "\n",
       "    .dataframe tbody tr th {\n",
       "        vertical-align: top;\n",
       "    }\n",
       "\n",
       "    .dataframe thead th {\n",
       "        text-align: right;\n",
       "    }\n",
       "</style>\n",
       "<table border=\"1\" class=\"dataframe\">\n",
       "  <thead>\n",
       "    <tr style=\"text-align: right;\">\n",
       "      <th></th>\n",
       "      <th>name</th>\n",
       "      <th>id</th>\n",
       "      <th>gender</th>\n",
       "      <th>uid</th>\n",
       "      <th>department</th>\n",
       "    </tr>\n",
       "  </thead>\n",
       "  <tbody>\n",
       "    <tr>\n",
       "      <th>0</th>\n",
       "      <td>James Cameron</td>\n",
       "      <td>4762</td>\n",
       "      <td>2</td>\n",
       "      <td>2710</td>\n",
       "      <td>Directing</td>\n",
       "    </tr>\n",
       "    <tr>\n",
       "      <th>1</th>\n",
       "      <td>John Woo</td>\n",
       "      <td>4893</td>\n",
       "      <td>2</td>\n",
       "      <td>11401</td>\n",
       "      <td>Directing</td>\n",
       "    </tr>\n",
       "    <tr>\n",
       "      <th>2</th>\n",
       "      <td>Luc Besson</td>\n",
       "      <td>4949</td>\n",
       "      <td>2</td>\n",
       "      <td>59</td>\n",
       "      <td>Directing</td>\n",
       "    </tr>\n",
       "  </tbody>\n",
       "</table>\n",
       "</div>"
      ],
      "text/plain": [
       "            name    id  gender    uid department\n",
       "0  James Cameron  4762       2   2710  Directing\n",
       "1       John Woo  4893       2  11401  Directing\n",
       "2     Luc Besson  4949       2     59  Directing"
      ]
     },
     "execution_count": 4,
     "metadata": {},
     "output_type": "execute_result"
    }
   ],
   "source": [
    "cur.execute(\"SELECT * FROM directors  WHERE name IN ('James Cameron', 'Luc Besson', 'John Woo')\")\n",
    "#use the cursor object to call the execute() method to execute any SQL queries.\n",
    "directors = cur.fetchall()\n",
    "\n",
    "#movies -> if u print movies , all the data shown in list manner, can't understanadble\n",
    "\n",
    "#Note - fetchall() --> fetch all rows for the current query, if no rows avaliable then,it returns an empty list.\n",
    "\n",
    "directors = pd.DataFrame(directors, columns = ['name', 'id', 'gender', 'uid', 'department'])\n",
    "#Creating a dataframe, A dataframe contains rows and columns , It is a Two-dimensional, size-mutable, potentially heterogeneous tabular data.\n",
    "\n",
    "print('Find these 3 directors: James Cameron ; Luc Besson ; John Woo :',directors.shape)\n",
    "directors.head()"
   ]
  },
  {
   "cell_type": "markdown",
   "id": "72af4e55",
   "metadata": {},
   "source": [
    "ANALYSIS :-I selected the table directors with columns contains name, id, gender, uid and department. After analyzing the data I fount that,\n",
    "\n",
    "I find these 3 directors: James Cameron ; Luc Besson ; John Woo from the table directors "
   ]
  },
  {
   "cell_type": "markdown",
   "id": "dfad9934",
   "metadata": {},
   "source": [
    "# Question 5: Find all directors with name starting with Steven. "
   ]
  },
  {
   "cell_type": "code",
   "execution_count": 69,
   "id": "c88bd87a",
   "metadata": {},
   "outputs": [
    {
     "name": "stdout",
     "output_type": "stream",
     "text": [
      "Name all directors with name starting with Steven : (0, 5)\n"
     ]
    },
    {
     "data": {
      "text/html": [
       "<div>\n",
       "<style scoped>\n",
       "    .dataframe tbody tr th:only-of-type {\n",
       "        vertical-align: middle;\n",
       "    }\n",
       "\n",
       "    .dataframe tbody tr th {\n",
       "        vertical-align: top;\n",
       "    }\n",
       "\n",
       "    .dataframe thead th {\n",
       "        text-align: right;\n",
       "    }\n",
       "</style>\n",
       "<table border=\"1\" class=\"dataframe\">\n",
       "  <thead>\n",
       "    <tr style=\"text-align: right;\">\n",
       "      <th></th>\n",
       "      <th>name</th>\n",
       "      <th>id</th>\n",
       "      <th>gender</th>\n",
       "      <th>uid</th>\n",
       "      <th>department</th>\n",
       "    </tr>\n",
       "  </thead>\n",
       "  <tbody>\n",
       "  </tbody>\n",
       "</table>\n",
       "</div>"
      ],
      "text/plain": [
       "Empty DataFrame\n",
       "Columns: [name, id, gender, uid, department]\n",
       "Index: []"
      ]
     },
     "execution_count": 69,
     "metadata": {},
     "output_type": "execute_result"
    }
   ],
   "source": [
    "cur.execute(\"SELECT * FROM directors  WHERE name LIKE ('Steven')\")\n",
    "#use the cursor object to call the execute() method to execute any SQL queries.\n",
    "directors = cur.fetchall()\n",
    "\n",
    "#movies -> if u print movies , all the data shown in list manner, can't understanadble\n",
    "\n",
    "#Note - fetchall() --> fetch all rows for the current query, if no rows avaliable then,it returns an empty list.\n",
    "\n",
    "directors = pd.DataFrame(directors, columns = ['name', 'id', 'gender', 'uid', 'department'])\n",
    "#Creating a dataframe, A dataframe contains rows and columns , It is a Two-dimensional, size-mutable, potentially heterogeneous tabular data.\n",
    "\n",
    "print('Name all directors with name starting with Steven :',directors.shape)\n",
    "directors.head()"
   ]
  },
  {
   "cell_type": "markdown",
   "id": "4e7ed42d",
   "metadata": {},
   "source": [
    "ANALYSIS :- I counted number of femal directors where gender = '1' .   \n",
    "After analyzing the data I fount that,\n",
    "\n",
    "Name all directors with name starting with Steven\"150\""
   ]
  },
  {
   "cell_type": "markdown",
   "id": "1b64f89c",
   "metadata": {},
   "source": [
    "# Question 6: Count female directors."
   ]
  },
  {
   "cell_type": "code",
   "execution_count": 37,
   "id": "0abd4e8b",
   "metadata": {},
   "outputs": [
    {
     "name": "stdout",
     "output_type": "stream",
     "text": [
      "Total number of Female Directors is :[(150,)]\n"
     ]
    }
   ],
   "source": [
    "cur.execute(\"SELECT COUNT (*) FROM directors  WHERE gender = '1'\")\n",
    "#use the cursor object to call the execute() method to execute any SQL queries.\n",
    "directors = cur.fetchall()\n",
    "\n",
    "#movies -> if u print movies , all the data shown in list manner, can't understanadble\n",
    "\n",
    "#Note - fetchall() --> fetch all rows for the current query, if no rows avaliable then,it returns an empty list.\n",
    "\n",
    "#directors = pd.DataFrame(directors, columns = ['name', 'id', 'gender', 'uid', 'department'])\n",
    "#Creating a dataframe, A dataframe contains rows and columns , It is a Two-dimensional, size-mutable, potentially heterogeneous tabular data.\n",
    "\n",
    "print(f\"Total number of Female Directors is :{directors}\")"
   ]
  },
  {
   "cell_type": "markdown",
   "id": "24886031",
   "metadata": {},
   "source": [
    "ANALYSIS :- I counted number of femal directors where gender = '1' .   \n",
    "After analyzing the data I fount that,\n",
    "\n",
    "Total number of Female Directors is \"150\""
   ]
  },
  {
   "cell_type": "markdown",
   "id": "56112fda",
   "metadata": {},
   "source": []
  },
  {
   "cell_type": "markdown",
   "id": "e27ec4f6",
   "metadata": {},
   "source": [
    "# Question 7: Find the name of the 10th first women directors?"
   ]
  },
  {
   "cell_type": "code",
   "execution_count": 68,
   "id": "24388399",
   "metadata": {},
   "outputs": [
    {
     "name": "stdout",
     "output_type": "stream",
     "text": [
      "Name of the first 10th women directors are  : (150, 5)\n"
     ]
    },
    {
     "data": {
      "text/html": [
       "<div>\n",
       "<style scoped>\n",
       "    .dataframe tbody tr th:only-of-type {\n",
       "        vertical-align: middle;\n",
       "    }\n",
       "\n",
       "    .dataframe tbody tr th {\n",
       "        vertical-align: top;\n",
       "    }\n",
       "\n",
       "    .dataframe thead th {\n",
       "        text-align: right;\n",
       "    }\n",
       "</style>\n",
       "<table border=\"1\" class=\"dataframe\">\n",
       "  <thead>\n",
       "    <tr style=\"text-align: right;\">\n",
       "      <th></th>\n",
       "      <th>name</th>\n",
       "      <th>id</th>\n",
       "      <th>gender</th>\n",
       "      <th>uid</th>\n",
       "      <th>department</th>\n",
       "    </tr>\n",
       "  </thead>\n",
       "  <tbody>\n",
       "    <tr>\n",
       "      <th>0</th>\n",
       "      <td>Brenda Chapman</td>\n",
       "      <td>4801</td>\n",
       "      <td>1</td>\n",
       "      <td>59803</td>\n",
       "      <td>Directing</td>\n",
       "    </tr>\n",
       "    <tr>\n",
       "      <th>1</th>\n",
       "      <td>Lilly Wachowski</td>\n",
       "      <td>4805</td>\n",
       "      <td>1</td>\n",
       "      <td>9339</td>\n",
       "      <td>Directing</td>\n",
       "    </tr>\n",
       "    <tr>\n",
       "      <th>2</th>\n",
       "      <td>Jennifer Yuh Nelson</td>\n",
       "      <td>4853</td>\n",
       "      <td>1</td>\n",
       "      <td>142312</td>\n",
       "      <td>Directing</td>\n",
       "    </tr>\n",
       "    <tr>\n",
       "      <th>3</th>\n",
       "      <td>Kathryn Bigelow</td>\n",
       "      <td>4970</td>\n",
       "      <td>1</td>\n",
       "      <td>14392</td>\n",
       "      <td>Directing</td>\n",
       "    </tr>\n",
       "    <tr>\n",
       "      <th>4</th>\n",
       "      <td>Nancy Meyers</td>\n",
       "      <td>4978</td>\n",
       "      <td>1</td>\n",
       "      <td>17698</td>\n",
       "      <td>Directing</td>\n",
       "    </tr>\n",
       "    <tr>\n",
       "      <th>5</th>\n",
       "      <td>Jill Culton</td>\n",
       "      <td>4979</td>\n",
       "      <td>1</td>\n",
       "      <td>7881</td>\n",
       "      <td>Directing</td>\n",
       "    </tr>\n",
       "    <tr>\n",
       "      <th>6</th>\n",
       "      <td>Mimi Leder</td>\n",
       "      <td>4996</td>\n",
       "      <td>1</td>\n",
       "      <td>51984</td>\n",
       "      <td>Directing</td>\n",
       "    </tr>\n",
       "    <tr>\n",
       "      <th>7</th>\n",
       "      <td>Vicky Jenson</td>\n",
       "      <td>5032</td>\n",
       "      <td>1</td>\n",
       "      <td>12058</td>\n",
       "      <td>Directing</td>\n",
       "    </tr>\n",
       "    <tr>\n",
       "      <th>8</th>\n",
       "      <td>Betty Thomas</td>\n",
       "      <td>5052</td>\n",
       "      <td>1</td>\n",
       "      <td>31024</td>\n",
       "      <td>Directing</td>\n",
       "    </tr>\n",
       "    <tr>\n",
       "      <th>9</th>\n",
       "      <td>Angelina Jolie</td>\n",
       "      <td>5086</td>\n",
       "      <td>1</td>\n",
       "      <td>11701</td>\n",
       "      <td>Directing</td>\n",
       "    </tr>\n",
       "  </tbody>\n",
       "</table>\n",
       "</div>"
      ],
      "text/plain": [
       "                  name    id  gender     uid department\n",
       "0       Brenda Chapman  4801       1   59803  Directing\n",
       "1      Lilly Wachowski  4805       1    9339  Directing\n",
       "2  Jennifer Yuh Nelson  4853       1  142312  Directing\n",
       "3      Kathryn Bigelow  4970       1   14392  Directing\n",
       "4         Nancy Meyers  4978       1   17698  Directing\n",
       "5          Jill Culton  4979       1    7881  Directing\n",
       "6           Mimi Leder  4996       1   51984  Directing\n",
       "7         Vicky Jenson  5032       1   12058  Directing\n",
       "8         Betty Thomas  5052       1   31024  Directing\n",
       "9       Angelina Jolie  5086       1   11701  Directing"
      ]
     },
     "execution_count": 68,
     "metadata": {},
     "output_type": "execute_result"
    }
   ],
   "source": [
    "cur.execute(\"SELECT * FROM directors  WHERE gender = '1' ORDER BY id ASC\")\n",
    "#use the cursor object to call the execute() method to execute any SQL queries.\n",
    "directors = cur.fetchall()\n",
    "\n",
    "#movies -> if u print movies , all the data shown in list manner, can't understanadble\n",
    "\n",
    "#Note - fetchall() --> fetch all rows for the current query, if no rows avaliable then,it returns an empty list.\n",
    "\n",
    "directors = pd.DataFrame(directors, columns = ['name', 'id', 'gender', 'uid', 'department'])\n",
    "#Creating a dataframe, A dataframe contains rows and columns , It is a Two-dimensional, size-mutable, potentially heterogeneous tabular data.\n",
    "\n",
    "print('Name of the first 10th women directors are  :',directors.shape)\n",
    "directors.head(10)"
   ]
  },
  {
   "cell_type": "markdown",
   "id": "bf2386c4",
   "metadata": {},
   "source": [
    "ANALYSIS :- I generated a table with 5 columns of name, id, gender, uid and department .   \n",
    "After analyzing the data I fount that,\n",
    "\n",
    "Name of the first 10th women directors are:-\n",
    "\tBrenda Chapman\t\n",
    " \tLilly Wachowski\t\n",
    "\tJennifer Yuh Nelson\t\n",
    "\tKathryn Bigelow\t\n",
    "\tNancy Meyers\t\n",
    "\tJill Culton\t\n",
    "\tMimi Leder\t\n",
    "\tVicky Jenson\t\n",
    "\tBetty Thomas\t\n",
    "\tAngelina Jolie\t"
   ]
  },
  {
   "cell_type": "markdown",
   "id": "9faf7c6a",
   "metadata": {},
   "source": []
  },
  {
   "cell_type": "markdown",
   "id": "4e5fd2c1",
   "metadata": {},
   "source": [
    "# Question 8: What are the 3 most popular movies?"
   ]
  },
  {
   "cell_type": "code",
   "execution_count": 74,
   "id": "6ce0ff11",
   "metadata": {},
   "outputs": [
    {
     "name": "stdout",
     "output_type": "stream",
     "text": [
      " Three most popular Movies data : (3, 5)\n"
     ]
    },
    {
     "data": {
      "text/html": [
       "<div>\n",
       "<style scoped>\n",
       "    .dataframe tbody tr th:only-of-type {\n",
       "        vertical-align: middle;\n",
       "    }\n",
       "\n",
       "    .dataframe tbody tr th {\n",
       "        vertical-align: top;\n",
       "    }\n",
       "\n",
       "    .dataframe thead th {\n",
       "        text-align: right;\n",
       "    }\n",
       "</style>\n",
       "<table border=\"1\" class=\"dataframe\">\n",
       "  <thead>\n",
       "    <tr style=\"text-align: right;\">\n",
       "      <th></th>\n",
       "      <th>id</th>\n",
       "      <th>original_title</th>\n",
       "      <th>popularity</th>\n",
       "      <th>title</th>\n",
       "      <th>director_id</th>\n",
       "    </tr>\n",
       "  </thead>\n",
       "  <tbody>\n",
       "    <tr>\n",
       "      <th>0</th>\n",
       "      <td>44143</td>\n",
       "      <td>Minions</td>\n",
       "      <td>875</td>\n",
       "      <td>Minions</td>\n",
       "      <td>5045</td>\n",
       "    </tr>\n",
       "    <tr>\n",
       "      <th>1</th>\n",
       "      <td>43692</td>\n",
       "      <td>Interstellar</td>\n",
       "      <td>724</td>\n",
       "      <td>Interstellar</td>\n",
       "      <td>4765</td>\n",
       "    </tr>\n",
       "    <tr>\n",
       "      <th>2</th>\n",
       "      <td>44385</td>\n",
       "      <td>Deadpool</td>\n",
       "      <td>514</td>\n",
       "      <td>Deadpool</td>\n",
       "      <td>5151</td>\n",
       "    </tr>\n",
       "  </tbody>\n",
       "</table>\n",
       "</div>"
      ],
      "text/plain": [
       "      id original_title  popularity         title  director_id\n",
       "0  44143        Minions         875       Minions         5045\n",
       "1  43692   Interstellar         724  Interstellar         4765\n",
       "2  44385       Deadpool         514      Deadpool         5151"
      ]
     },
     "execution_count": 74,
     "metadata": {},
     "output_type": "execute_result"
    }
   ],
   "source": [
    "cur.execute('SELECT movies.id ,movies.original_title, movies.popularity, movies.title, movies.director_id FROM movies ORDER BY popularity DESC LIMIT 3')\n",
    "#use the cursor object to call the execute() method to execute any SQL queries.\n",
    "movies = cur.fetchall()\n",
    "\n",
    "#movies -> if u print movies , all the data shown in list manner, can't understanadble\n",
    "\n",
    "#Note - fetchall() --> fetch all rows for the current query, if no rows avaliable then,it returns an empty list.\n",
    "\n",
    "movies = pd.DataFrame(movies, columns = ['id', 'original_title',  'popularity', 'title', 'director_id'])\n",
    "#Creating a dataframe, A dataframe contains rows and columns , It is a Two-dimensional, size-mutable, potentially heterogeneous tabular data.\n",
    "\n",
    "\n",
    "\n",
    "print(' Three most popular Movies data :',movies.shape)\n",
    "movies.head()\n",
    "##Displays most popular 3 movies in the table"
   ]
  },
  {
   "cell_type": "markdown",
   "id": "d886426d",
   "metadata": {},
   "source": [
    "ANALYSIS :- I generated a table with 5 columns of id, original_title, popularity, title and director_id .   \n",
    "After analyzing the data I fount that,\n",
    "\n",
    "Three most popular Movies data are:\n",
    "Minions\t\n",
    "Interstellar\t\n",
    "Deadpool\t"
   ]
  },
  {
   "cell_type": "code",
   "execution_count": null,
   "id": "2c90786a",
   "metadata": {},
   "outputs": [],
   "source": []
  },
  {
   "cell_type": "markdown",
   "id": "1508fca7",
   "metadata": {},
   "source": [
    "# Question 9: What are the 3 most bankable movies?"
   ]
  },
  {
   "cell_type": "code",
   "execution_count": 67,
   "id": "f91b121f",
   "metadata": {},
   "outputs": [
    {
     "name": "stdout",
     "output_type": "stream",
     "text": [
      "Three Most bankable movies are : (3, 5)\n"
     ]
    },
    {
     "data": {
      "text/html": [
       "<div>\n",
       "<style scoped>\n",
       "    .dataframe tbody tr th:only-of-type {\n",
       "        vertical-align: middle;\n",
       "    }\n",
       "\n",
       "    .dataframe tbody tr th {\n",
       "        vertical-align: top;\n",
       "    }\n",
       "\n",
       "    .dataframe thead th {\n",
       "        text-align: right;\n",
       "    }\n",
       "</style>\n",
       "<table border=\"1\" class=\"dataframe\">\n",
       "  <thead>\n",
       "    <tr style=\"text-align: right;\">\n",
       "      <th></th>\n",
       "      <th>id</th>\n",
       "      <th>original_title</th>\n",
       "      <th>budget</th>\n",
       "      <th>title</th>\n",
       "      <th>director_id</th>\n",
       "    </tr>\n",
       "  </thead>\n",
       "  <tbody>\n",
       "    <tr>\n",
       "      <th>0</th>\n",
       "      <td>43614</td>\n",
       "      <td>Pirates of the Caribbean: On Stranger Tides</td>\n",
       "      <td>380000000</td>\n",
       "      <td>Pirates of the Caribbean: On Stranger Tides</td>\n",
       "      <td>4775</td>\n",
       "    </tr>\n",
       "    <tr>\n",
       "      <th>1</th>\n",
       "      <td>43598</td>\n",
       "      <td>Pirates of the Caribbean: At World's End</td>\n",
       "      <td>300000000</td>\n",
       "      <td>Pirates of the Caribbean: At World's End</td>\n",
       "      <td>4763</td>\n",
       "    </tr>\n",
       "    <tr>\n",
       "      <th>2</th>\n",
       "      <td>43604</td>\n",
       "      <td>Avengers: Age of Ultron</td>\n",
       "      <td>280000000</td>\n",
       "      <td>Avengers: Age of Ultron</td>\n",
       "      <td>4769</td>\n",
       "    </tr>\n",
       "  </tbody>\n",
       "</table>\n",
       "</div>"
      ],
      "text/plain": [
       "      id                               original_title     budget  \\\n",
       "0  43614  Pirates of the Caribbean: On Stranger Tides  380000000   \n",
       "1  43598     Pirates of the Caribbean: At World's End  300000000   \n",
       "2  43604                      Avengers: Age of Ultron  280000000   \n",
       "\n",
       "                                         title  director_id  \n",
       "0  Pirates of the Caribbean: On Stranger Tides         4775  \n",
       "1     Pirates of the Caribbean: At World's End         4763  \n",
       "2                      Avengers: Age of Ultron         4769  "
      ]
     },
     "execution_count": 67,
     "metadata": {},
     "output_type": "execute_result"
    }
   ],
   "source": [
    "cur.execute('SELECT * FROM movies ORDER BY budget DESC LIMIT 3')\n",
    "#use the cursor object to call the execute() method to execute any SQL queries.\n",
    "movies = cur.fetchall()\n",
    "\n",
    "#movies -> if u print movies , all the data shown in list manner, can't understanadble\n",
    "\n",
    "#Note - fetchall() --> fetch all rows for the current query, if no rows avaliable then,it returns an empty list.\n",
    "\n",
    "movies = pd.DataFrame(movies, columns = ['id', 'original_title', 'budget', 'popularity', 'release_date', 'revenue', 'title', 'vote_average', 'vote_count','overview','tagline', 'uid', 'director_id'])\n",
    "#Creating a dataframe, A dataframe contains rows and columns , It is a Two-dimensional, size-mutable, potentially heterogeneous tabular data.\n",
    "\n",
    "movies = movies.drop(['popularity', 'release_date', 'revenue', 'vote_average', 'vote_count','overview','tagline', 'uid'], axis = 1)\n",
    "\n",
    "print('Three Most bankable movies are :',movies.shape)\n",
    "movies.head(3)\n",
    "##Displays 3 most bankable movies in the table"
   ]
  },
  {
   "cell_type": "markdown",
   "id": "261f4e34",
   "metadata": {},
   "source": [
    "ANALYSIS :- I generated a table with 5 columns of id, original_title,budget,title and director_id .   \n",
    "After analyzing the data I fount that,\n",
    "\n",
    "Three Most bankable movies are:-\n",
    "Pirates of the Caribbean: On Stranger Tides\n",
    "Pirates of the Caribbean: At World's End\n",
    "Avengers: Age of Ultron\t"
   ]
  },
  {
   "cell_type": "markdown",
   "id": "c6bbdd3c",
   "metadata": {},
   "source": []
  },
  {
   "cell_type": "markdown",
   "id": "e8b1fba5",
   "metadata": {},
   "source": [
    "# Question 10: What is the most awarded average vote since the January 1st, 2000?"
   ]
  },
  {
   "cell_type": "code",
   "execution_count": 66,
   "id": "eecd450d",
   "metadata": {},
   "outputs": [
    {
     "name": "stdout",
     "output_type": "stream",
     "text": [
      "Most awarded average vote since the January 1st,2000 : (1, 5)\n"
     ]
    },
    {
     "data": {
      "text/html": [
       "<div>\n",
       "<style scoped>\n",
       "    .dataframe tbody tr th:only-of-type {\n",
       "        vertical-align: middle;\n",
       "    }\n",
       "\n",
       "    .dataframe tbody tr th {\n",
       "        vertical-align: top;\n",
       "    }\n",
       "\n",
       "    .dataframe thead th {\n",
       "        text-align: right;\n",
       "    }\n",
       "</style>\n",
       "<table border=\"1\" class=\"dataframe\">\n",
       "  <thead>\n",
       "    <tr style=\"text-align: right;\">\n",
       "      <th></th>\n",
       "      <th>id</th>\n",
       "      <th>original_title</th>\n",
       "      <th>release_date</th>\n",
       "      <th>vote_average</th>\n",
       "      <th>director_id</th>\n",
       "    </tr>\n",
       "  </thead>\n",
       "  <tbody>\n",
       "    <tr>\n",
       "      <th>0</th>\n",
       "      <td>47589</td>\n",
       "      <td>Sardaarji</td>\n",
       "      <td>2015-06-26</td>\n",
       "      <td>9.5</td>\n",
       "      <td>6588</td>\n",
       "    </tr>\n",
       "  </tbody>\n",
       "</table>\n",
       "</div>"
      ],
      "text/plain": [
       "      id original_title release_date  vote_average  director_id\n",
       "0  47589      Sardaarji   2015-06-26           9.5         6588"
      ]
     },
     "execution_count": 66,
     "metadata": {},
     "output_type": "execute_result"
    }
   ],
   "source": [
    "cur.execute(\"SELECT  movies.id , movies.original_title, movies.release_date ,movies.vote_average ,movies.director_id FROM movies WHERE release_date >'2000' ORDER BY vote_average DESC LIMIT 1\")\n",
    "#use the cursor object to call the execute() method to execute any SQL queries.\n",
    "movies = cur.fetchall()\n",
    "\n",
    "#movies -> if u print movies , all the data shown in list manner, can't understanadble\n",
    "\n",
    "#Note - fetchall() --> fetch all rows for the current query, if no rows avaliable then,it returns an empty list.\n",
    "\n",
    "movies = pd.DataFrame(movies, columns = ['id', 'original_title', 'release_date', 'vote_average', 'director_id'])\n",
    "#Creating a dataframe, A dataframe contains rows and columns , It is a Two-dimensional, size-mutable, potentially heterogeneous tabular data.\n",
    "\n",
    "\n",
    "print('Most awarded average vote since the January 1st,2000 :',movies.shape)\n",
    "movies.head(1)\n",
    "##Displays 1 most awarded average vote since the January 1st,2000 movies in the table"
   ]
  },
  {
   "cell_type": "markdown",
   "id": "414ec74c",
   "metadata": {},
   "source": [
    "ANALYSIS :- I generated a table with 5 columns of id, original_title, release_date, vote_average, director_id .        \n",
    "After analyzing the data I fount that,\n",
    "\n",
    "Most awarded average vote since the January 1st,2000  is \"Sardaarji\" ."
   ]
  },
  {
   "cell_type": "markdown",
   "id": "53e843cf",
   "metadata": {},
   "source": []
  },
  {
   "cell_type": "markdown",
   "id": "90edfb90",
   "metadata": {},
   "source": [
    "# Question 11: Which movie(s) were directed by Brenda Chapman?"
   ]
  },
  {
   "cell_type": "code",
   "execution_count": 137,
   "id": "5ec445fa",
   "metadata": {},
   "outputs": [
    {
     "name": "stdout",
     "output_type": "stream",
     "text": [
      "Most popular Movies data : (1, 5)\n",
      "<class 'pandas.core.frame.DataFrame'>\n",
      "RangeIndex: 1 entries, 0 to 0\n",
      "Data columns (total 5 columns):\n",
      " #   Column      Non-Null Count  Dtype \n",
      "---  ------      --------------  ----- \n",
      " 0   name        1 non-null      object\n",
      " 1   id          1 non-null      int64 \n",
      " 2   gender      1 non-null      int64 \n",
      " 3   uid         1 non-null      int64 \n",
      " 4   department  1 non-null      object\n",
      "dtypes: int64(3), object(2)\n",
      "memory usage: 172.0+ bytes\n"
     ]
    },
    {
     "data": {
      "text/html": [
       "<div>\n",
       "<style scoped>\n",
       "    .dataframe tbody tr th:only-of-type {\n",
       "        vertical-align: middle;\n",
       "    }\n",
       "\n",
       "    .dataframe tbody tr th {\n",
       "        vertical-align: top;\n",
       "    }\n",
       "\n",
       "    .dataframe thead th {\n",
       "        text-align: right;\n",
       "    }\n",
       "</style>\n",
       "<table border=\"1\" class=\"dataframe\">\n",
       "  <thead>\n",
       "    <tr style=\"text-align: right;\">\n",
       "      <th></th>\n",
       "      <th>name</th>\n",
       "      <th>id</th>\n",
       "      <th>gender</th>\n",
       "      <th>uid</th>\n",
       "      <th>department</th>\n",
       "    </tr>\n",
       "  </thead>\n",
       "  <tbody>\n",
       "    <tr>\n",
       "      <th>0</th>\n",
       "      <td>Brenda Chapman</td>\n",
       "      <td>4801</td>\n",
       "      <td>1</td>\n",
       "      <td>59803</td>\n",
       "      <td>Directing</td>\n",
       "    </tr>\n",
       "  </tbody>\n",
       "</table>\n",
       "</div>"
      ],
      "text/plain": [
       "             name    id  gender    uid department\n",
       "0  Brenda Chapman  4801       1  59803  Directing"
      ]
     },
     "execution_count": 137,
     "metadata": {},
     "output_type": "execute_result"
    }
   ],
   "source": [
    "#cur.execute(\"SELECT title  FROM  movies JOIN directors  ON directors.id = movies.director_id WHERE directors.name = ('Brenda Chanpaman') \")\n",
    "cur.execute(\"SELECT * FROM directors WHERE name = ('Brenda Chapman')\")\n",
    "#use the cursor object to call the execute() method to execute any SQL queries.\n",
    "directors = cur.fetchall()\n",
    "\n",
    "#movies -> if u print movies , all the data shown in list manner, can't understanadble\n",
    "\n",
    "#Note - fetchall() --> fetch all rows for the current query, if no rows avaliable then,it returns an empty list.\n",
    "\n",
    "directors = pd.DataFrame(directors, columns = ['name', 'id', 'gender', 'uid', 'department'])\n",
    "#Creating a dataframe, A dataframe contains rows and columns , It is a Two-dimensional, size-mutable, potentially heterogeneous tabular data.\n",
    "\n",
    "\n",
    "print('Most popular Movies data :',directors.shape)\n",
    "\n",
    "directors.head(10)\n",
    "##Displays 1 most awarded average vote since the January 1st,2000 movies in the table"
   ]
  },
  {
   "cell_type": "code",
   "execution_count": null,
   "id": "5c054b9f",
   "metadata": {},
   "outputs": [],
   "source": [
    "uid =59803, id =4801"
   ]
  },
  {
   "cell_type": "code",
   "execution_count": null,
   "id": "8cf05887",
   "metadata": {},
   "outputs": [],
   "source": []
  },
  {
   "cell_type": "code",
   "execution_count": null,
   "id": "d8da5ee2",
   "metadata": {},
   "outputs": [],
   "source": []
  },
  {
   "cell_type": "markdown",
   "id": "9a7ba80f",
   "metadata": {},
   "source": [
    "# Question 12: Whose director made the most movies?"
   ]
  },
  {
   "cell_type": "code",
   "execution_count": 62,
   "id": "2ddb43a9",
   "metadata": {},
   "outputs": [
    {
     "name": "stdout",
     "output_type": "stream",
     "text": [
      "Dirctor who made the most movies is : (2349, 2)\n"
     ]
    },
    {
     "data": {
      "text/html": [
       "<div>\n",
       "<style scoped>\n",
       "    .dataframe tbody tr th:only-of-type {\n",
       "        vertical-align: middle;\n",
       "    }\n",
       "\n",
       "    .dataframe tbody tr th {\n",
       "        vertical-align: top;\n",
       "    }\n",
       "\n",
       "    .dataframe thead th {\n",
       "        text-align: right;\n",
       "    }\n",
       "</style>\n",
       "<table border=\"1\" class=\"dataframe\">\n",
       "  <thead>\n",
       "    <tr style=\"text-align: right;\">\n",
       "      <th></th>\n",
       "      <th>name</th>\n",
       "      <th>movies_count</th>\n",
       "    </tr>\n",
       "  </thead>\n",
       "  <tbody>\n",
       "    <tr>\n",
       "      <th>0</th>\n",
       "      <td>Steven Spielberg</td>\n",
       "      <td>27</td>\n",
       "    </tr>\n",
       "  </tbody>\n",
       "</table>\n",
       "</div>"
      ],
      "text/plain": [
       "               name  movies_count\n",
       "0  Steven Spielberg            27"
      ]
     },
     "execution_count": 62,
     "metadata": {},
     "output_type": "execute_result"
    }
   ],
   "source": [
    "cur.execute(\" SELECT name, COUNT(movies.id) AS movies_count FROM directors JOIN movies ON directors.id = movies.director_id GROUP BY director_id ORDER BY movies_count DESC ;\")\n",
    "#cur.execute(\"SELECT directors, COUNT(*) as movie_count FROM movies GROUP BY directors_id ORDER BY movie_count DESC LIMIT 1;\")\n",
    "#use the cursor object to call the execute() method to execute any SQL queries.\n",
    "directors = cur.fetchall()\n",
    "\n",
    "#movies -> if u print movies , all the data shown in list manner, can't understanadble\n",
    "\n",
    "#Note - fetchall() --> fetch all rows for the current query, if no rows avaliable then,it returns an empty list.\n",
    "\n",
    "directors = pd.DataFrame(directors, columns = ['name','movies_count'])\n",
    "#Creating a dataframe, A dataframe contains rows and columns , It is a Two-dimensional, size-mutable, potentially heterogeneous tabular data.\n",
    "\n",
    "print('Dirctor who made the most movies is :',directors.shape)\n",
    "directors.head(1)"
   ]
  },
  {
   "cell_type": "markdown",
   "id": "ddfc36dc",
   "metadata": {},
   "source": [
    "ANALYSIS :- I generated a table with 2 columns of name and movie_count .        \n",
    "After analyzing the data I fount that,\n",
    "\n",
    "Director Steven Spielberg  has made the heighest number of movies, totaling 27"
   ]
  },
  {
   "cell_type": "markdown",
   "id": "ee9ae857",
   "metadata": {},
   "source": []
  },
  {
   "cell_type": "markdown",
   "id": "32d3dfc1",
   "metadata": {},
   "source": [
    "# Question 13: Whose director is the most bankable?"
   ]
  },
  {
   "cell_type": "code",
   "execution_count": 106,
   "id": "eefe6ccf",
   "metadata": {
    "scrolled": true
   },
   "outputs": [
    {
     "name": "stdout",
     "output_type": "stream",
     "text": [
      " Director  with most bankable movie : (1, 1)\n"
     ]
    },
    {
     "data": {
      "text/html": [
       "<div>\n",
       "<style scoped>\n",
       "    .dataframe tbody tr th:only-of-type {\n",
       "        vertical-align: middle;\n",
       "    }\n",
       "\n",
       "    .dataframe tbody tr th {\n",
       "        vertical-align: top;\n",
       "    }\n",
       "\n",
       "    .dataframe thead th {\n",
       "        text-align: right;\n",
       "    }\n",
       "</style>\n",
       "<table border=\"1\" class=\"dataframe\">\n",
       "  <thead>\n",
       "    <tr style=\"text-align: right;\">\n",
       "      <th></th>\n",
       "      <th>name</th>\n",
       "    </tr>\n",
       "  </thead>\n",
       "  <tbody>\n",
       "    <tr>\n",
       "      <th>0</th>\n",
       "      <td>Rob Marshall</td>\n",
       "    </tr>\n",
       "  </tbody>\n",
       "</table>\n",
       "</div>"
      ],
      "text/plain": [
       "           name\n",
       "0  Rob Marshall"
      ]
     },
     "execution_count": 106,
     "metadata": {},
     "output_type": "execute_result"
    }
   ],
   "source": [
    "cur.execute(\"SELECT name FROM directors  JOIN movies ON directors.id = movies.director_id GROUP BY directors.id ORDER BY budget desc limit 1;\")\n",
    "#use the cursor object to call the execute() method to execute any SQL queries.\n",
    "directors = cur.fetchall()\n",
    "\n",
    "#movies -> if u print movies , all the data shown in list manner, can't understanadble\n",
    "\n",
    "#Note - fetchall() --> fetch all rows for the current query, if no rows avaliable then,it returns an empty list.\n",
    "\n",
    "directors = pd.DataFrame(directors, columns = ['name'])\n",
    "#Creating a dataframe, A dataframe contains rows and columns , It is a Two-dimensional, size-mutable, potentially heterogeneous tabular data.\n",
    "\n",
    "#movies = movies.drop(['popularity', 'release_date', 'revenue', 'vote_average', 'vote_count','overview','tagline', 'uid'], axis = 1)\n",
    "\n",
    "print(' Director  with most bankable movie :',directors.shape)\n",
    "directors.head(10)\n",
    "##Displays Director name with most bankable movies in the table"
   ]
  },
  {
   "cell_type": "markdown",
   "id": "41c79431",
   "metadata": {},
   "source": [
    "ANALYSIS :- I generated a table with 1 columns of name .        \n",
    "After analyzing the data I fount that,\n",
    "\n",
    "Director Rob Marshall  directed the most bankable movie."
   ]
  },
  {
   "cell_type": "code",
   "execution_count": null,
   "id": "c564c4b0",
   "metadata": {},
   "outputs": [],
   "source": []
  },
  {
   "cell_type": "markdown",
   "id": "bb7b49dd",
   "metadata": {},
   "source": [
    "# Budget Analysis , Question - List out Top 10 highest budget made movies\n"
   ]
  },
  {
   "cell_type": "code",
   "execution_count": 60,
   "id": "076baaa6",
   "metadata": {},
   "outputs": [
    {
     "name": "stdout",
     "output_type": "stream",
     "text": [
      "Shape of Movies data : (10, 5)\n",
      "\n",
      "\n",
      "\n",
      "\n"
     ]
    },
    {
     "data": {
      "text/html": [
       "<div>\n",
       "<style scoped>\n",
       "    .dataframe tbody tr th:only-of-type {\n",
       "        vertical-align: middle;\n",
       "    }\n",
       "\n",
       "    .dataframe tbody tr th {\n",
       "        vertical-align: top;\n",
       "    }\n",
       "\n",
       "    .dataframe thead th {\n",
       "        text-align: right;\n",
       "    }\n",
       "</style>\n",
       "<table border=\"1\" class=\"dataframe\">\n",
       "  <thead>\n",
       "    <tr style=\"text-align: right;\">\n",
       "      <th></th>\n",
       "      <th>id</th>\n",
       "      <th>original_title</th>\n",
       "      <th>budget</th>\n",
       "      <th>title</th>\n",
       "      <th>director_id</th>\n",
       "    </tr>\n",
       "  </thead>\n",
       "  <tbody>\n",
       "    <tr>\n",
       "      <th>0</th>\n",
       "      <td>43614</td>\n",
       "      <td>Pirates of the Caribbean: On Stranger Tides</td>\n",
       "      <td>380000000</td>\n",
       "      <td>Pirates of the Caribbean: On Stranger Tides</td>\n",
       "      <td>4775</td>\n",
       "    </tr>\n",
       "    <tr>\n",
       "      <th>1</th>\n",
       "      <td>43598</td>\n",
       "      <td>Pirates of the Caribbean: At World's End</td>\n",
       "      <td>300000000</td>\n",
       "      <td>Pirates of the Caribbean: At World's End</td>\n",
       "      <td>4763</td>\n",
       "    </tr>\n",
       "    <tr>\n",
       "      <th>2</th>\n",
       "      <td>43604</td>\n",
       "      <td>Avengers: Age of Ultron</td>\n",
       "      <td>280000000</td>\n",
       "      <td>Avengers: Age of Ultron</td>\n",
       "      <td>4769</td>\n",
       "    </tr>\n",
       "    <tr>\n",
       "      <th>3</th>\n",
       "      <td>43607</td>\n",
       "      <td>Superman Returns</td>\n",
       "      <td>270000000</td>\n",
       "      <td>Superman Returns</td>\n",
       "      <td>4772</td>\n",
       "    </tr>\n",
       "    <tr>\n",
       "      <th>4</th>\n",
       "      <td>43601</td>\n",
       "      <td>John Carter</td>\n",
       "      <td>260000000</td>\n",
       "      <td>John Carter</td>\n",
       "      <td>4766</td>\n",
       "    </tr>\n",
       "    <tr>\n",
       "      <th>5</th>\n",
       "      <td>43603</td>\n",
       "      <td>Tangled</td>\n",
       "      <td>260000000</td>\n",
       "      <td>Tangled</td>\n",
       "      <td>4768</td>\n",
       "    </tr>\n",
       "    <tr>\n",
       "      <th>6</th>\n",
       "      <td>43602</td>\n",
       "      <td>Spider-Man 3</td>\n",
       "      <td>258000000</td>\n",
       "      <td>Spider-Man 3</td>\n",
       "      <td>4767</td>\n",
       "    </tr>\n",
       "    <tr>\n",
       "      <th>7</th>\n",
       "      <td>43610</td>\n",
       "      <td>The Lone Ranger</td>\n",
       "      <td>255000000</td>\n",
       "      <td>The Lone Ranger</td>\n",
       "      <td>4763</td>\n",
       "    </tr>\n",
       "    <tr>\n",
       "      <th>8</th>\n",
       "      <td>43600</td>\n",
       "      <td>The Dark Knight Rises</td>\n",
       "      <td>250000000</td>\n",
       "      <td>The Dark Knight Rises</td>\n",
       "      <td>4765</td>\n",
       "    </tr>\n",
       "    <tr>\n",
       "      <th>9</th>\n",
       "      <td>43605</td>\n",
       "      <td>Harry Potter and the Half-Blood Prince</td>\n",
       "      <td>250000000</td>\n",
       "      <td>Harry Potter and the Half-Blood Prince</td>\n",
       "      <td>4770</td>\n",
       "    </tr>\n",
       "  </tbody>\n",
       "</table>\n",
       "</div>"
      ],
      "text/plain": [
       "      id                               original_title     budget  \\\n",
       "0  43614  Pirates of the Caribbean: On Stranger Tides  380000000   \n",
       "1  43598     Pirates of the Caribbean: At World's End  300000000   \n",
       "2  43604                      Avengers: Age of Ultron  280000000   \n",
       "3  43607                             Superman Returns  270000000   \n",
       "4  43601                                  John Carter  260000000   \n",
       "5  43603                                      Tangled  260000000   \n",
       "6  43602                                 Spider-Man 3  258000000   \n",
       "7  43610                              The Lone Ranger  255000000   \n",
       "8  43600                        The Dark Knight Rises  250000000   \n",
       "9  43605       Harry Potter and the Half-Blood Prince  250000000   \n",
       "\n",
       "                                         title  director_id  \n",
       "0  Pirates of the Caribbean: On Stranger Tides         4775  \n",
       "1     Pirates of the Caribbean: At World's End         4763  \n",
       "2                      Avengers: Age of Ultron         4769  \n",
       "3                             Superman Returns         4772  \n",
       "4                                  John Carter         4766  \n",
       "5                                      Tangled         4768  \n",
       "6                                 Spider-Man 3         4767  \n",
       "7                              The Lone Ranger         4763  \n",
       "8                        The Dark Knight Rises         4765  \n",
       "9       Harry Potter and the Half-Blood Prince         4770  "
      ]
     },
     "execution_count": 60,
     "metadata": {},
     "output_type": "execute_result"
    }
   ],
   "source": [
    "cur.execute('SELECT movies.id, movies.original_title, movies.budget, movies.title, movies.director_id FROM movies ORDER BY budget  DESC LIMIT 10')\n",
    "#use the cursor object to call the execute() method to execute any SQL queries.\n",
    "movies = cur.fetchall()\n",
    "\n",
    "#movies -> if u print movies , all the data shown in list manner, can't understanadble\n",
    "\n",
    "#Note - fetchall() --> fetch all rows for the current query, if no rows avaliable then,it returns an empty list.\n",
    "\n",
    "movies = pd.DataFrame(movies, columns = ['id', 'original_title', 'budget', 'title',  'director_id'])\n",
    "#Creating a dataframe, A dataframe contains rows and columns , It is a Two-dimensional, size-mutable, potentially heterogeneous tabular data.\n",
    "\n",
    "\n",
    "\n",
    "print('List top 10 higest budget made movies :',movies.shape)\n",
    "movies.head(10)\n",
    "\n",
    "#Displays top 10 higest budget made movies "
   ]
  },
  {
   "cell_type": "markdown",
   "id": "733bbb48",
   "metadata": {},
   "source": [
    "ANALYSIS :- I generated a table with 5 columns of id, original_title, budget, title, director_id .\n",
    "After analyzing the data I fount that, \n",
    "\n",
    "LIST of tOP 10 movies with highest budgets  are :-\n",
    "\n",
    "           Movies                             Budget\n",
    "Pirates of the Caribbean: On Stranger Tides\t3,80000000\t\n",
    "Pirates of the Caribbean: At World's End\t3,00000000\t\n",
    "Avengers: Age of Ultron\t                    2,80000000\t\n",
    "Superman Returns\t                        2,70000000\t\n",
    "John Carter                             \t2,60000000\t\n",
    "Tangled\t                                    2,60000000\t\n",
    "Spider-Man 3\t                            2,58000000\t\n",
    "The Lone Ranger\t                            2,55000000\t\n",
    "The Dark Knight Rises\t                    2,50000000\tT\n",
    "Harry Potter and the Half-Blood Prince\t    2,50000000\t"
   ]
  },
  {
   "cell_type": "markdown",
   "id": "4246c3bc",
   "metadata": {},
   "source": []
  },
  {
   "cell_type": "markdown",
   "id": "8e9ecb76",
   "metadata": {},
   "source": [
    "# Popularity Analysis ,Question- List out Top 10 popularity on movies\n"
   ]
  },
  {
   "cell_type": "code",
   "execution_count": 59,
   "id": "9315dd4e",
   "metadata": {},
   "outputs": [
    {
     "name": "stdout",
     "output_type": "stream",
     "text": [
      "Shape of Movies data : (10, 5)\n"
     ]
    },
    {
     "data": {
      "text/html": [
       "<div>\n",
       "<style scoped>\n",
       "    .dataframe tbody tr th:only-of-type {\n",
       "        vertical-align: middle;\n",
       "    }\n",
       "\n",
       "    .dataframe tbody tr th {\n",
       "        vertical-align: top;\n",
       "    }\n",
       "\n",
       "    .dataframe thead th {\n",
       "        text-align: right;\n",
       "    }\n",
       "</style>\n",
       "<table border=\"1\" class=\"dataframe\">\n",
       "  <thead>\n",
       "    <tr style=\"text-align: right;\">\n",
       "      <th></th>\n",
       "      <th>id</th>\n",
       "      <th>original_title</th>\n",
       "      <th>popularity</th>\n",
       "      <th>title</th>\n",
       "      <th>director_id</th>\n",
       "    </tr>\n",
       "  </thead>\n",
       "  <tbody>\n",
       "    <tr>\n",
       "      <th>0</th>\n",
       "      <td>44143</td>\n",
       "      <td>Minions</td>\n",
       "      <td>875</td>\n",
       "      <td>Minions</td>\n",
       "      <td>5045</td>\n",
       "    </tr>\n",
       "    <tr>\n",
       "      <th>1</th>\n",
       "      <td>43692</td>\n",
       "      <td>Interstellar</td>\n",
       "      <td>724</td>\n",
       "      <td>Interstellar</td>\n",
       "      <td>4765</td>\n",
       "    </tr>\n",
       "    <tr>\n",
       "      <th>2</th>\n",
       "      <td>44385</td>\n",
       "      <td>Deadpool</td>\n",
       "      <td>514</td>\n",
       "      <td>Deadpool</td>\n",
       "      <td>5151</td>\n",
       "    </tr>\n",
       "    <tr>\n",
       "      <th>3</th>\n",
       "      <td>43691</td>\n",
       "      <td>Guardians of the Galaxy</td>\n",
       "      <td>481</td>\n",
       "      <td>Guardians of the Galaxy</td>\n",
       "      <td>4827</td>\n",
       "    </tr>\n",
       "    <tr>\n",
       "      <th>4</th>\n",
       "      <td>43724</td>\n",
       "      <td>Mad Max: Fury Road</td>\n",
       "      <td>434</td>\n",
       "      <td>Mad Max: Fury Road</td>\n",
       "      <td>4845</td>\n",
       "    </tr>\n",
       "    <tr>\n",
       "      <th>5</th>\n",
       "      <td>43625</td>\n",
       "      <td>Jurassic World</td>\n",
       "      <td>418</td>\n",
       "      <td>Jurassic World</td>\n",
       "      <td>4783</td>\n",
       "    </tr>\n",
       "    <tr>\n",
       "      <th>6</th>\n",
       "      <td>43796</td>\n",
       "      <td>Pirates of the Caribbean: The Curse of the Bla...</td>\n",
       "      <td>271</td>\n",
       "      <td>Pirates of the Caribbean: The Curse of the Bla...</td>\n",
       "      <td>4763</td>\n",
       "    </tr>\n",
       "    <tr>\n",
       "      <th>7</th>\n",
       "      <td>43679</td>\n",
       "      <td>Dawn of the Planet of the Apes</td>\n",
       "      <td>243</td>\n",
       "      <td>Dawn of the Planet of the Apes</td>\n",
       "      <td>4818</td>\n",
       "    </tr>\n",
       "    <tr>\n",
       "      <th>8</th>\n",
       "      <td>43797</td>\n",
       "      <td>The Hunger Games: Mockingjay - Part 1</td>\n",
       "      <td>206</td>\n",
       "      <td>The Hunger Games: Mockingjay - Part 1</td>\n",
       "      <td>4831</td>\n",
       "    </tr>\n",
       "    <tr>\n",
       "      <th>9</th>\n",
       "      <td>43685</td>\n",
       "      <td>Big Hero 6</td>\n",
       "      <td>203</td>\n",
       "      <td>Big Hero 6</td>\n",
       "      <td>4823</td>\n",
       "    </tr>\n",
       "  </tbody>\n",
       "</table>\n",
       "</div>"
      ],
      "text/plain": [
       "      id                                     original_title  popularity  \\\n",
       "0  44143                                            Minions         875   \n",
       "1  43692                                       Interstellar         724   \n",
       "2  44385                                           Deadpool         514   \n",
       "3  43691                            Guardians of the Galaxy         481   \n",
       "4  43724                                 Mad Max: Fury Road         434   \n",
       "5  43625                                     Jurassic World         418   \n",
       "6  43796  Pirates of the Caribbean: The Curse of the Bla...         271   \n",
       "7  43679                     Dawn of the Planet of the Apes         243   \n",
       "8  43797              The Hunger Games: Mockingjay - Part 1         206   \n",
       "9  43685                                         Big Hero 6         203   \n",
       "\n",
       "                                               title  director_id  \n",
       "0                                            Minions         5045  \n",
       "1                                       Interstellar         4765  \n",
       "2                                           Deadpool         5151  \n",
       "3                            Guardians of the Galaxy         4827  \n",
       "4                                 Mad Max: Fury Road         4845  \n",
       "5                                     Jurassic World         4783  \n",
       "6  Pirates of the Caribbean: The Curse of the Bla...         4763  \n",
       "7                     Dawn of the Planet of the Apes         4818  \n",
       "8              The Hunger Games: Mockingjay - Part 1         4831  \n",
       "9                                         Big Hero 6         4823  "
      ]
     },
     "execution_count": 59,
     "metadata": {},
     "output_type": "execute_result"
    }
   ],
   "source": [
    "cur.execute('SELECT  movies.id, movies.original_title, movies.popularity, movies.title , movies.director_id FROM movies ORDER BY popularity DESC LIMIT 10')\n",
    "#use the cursor object to call the execute() method to execute any SQL queries.\n",
    "movies = cur.fetchall()\n",
    "\n",
    "#movies -> if u print movies , all the data shown in list manner, can't understanadble\n",
    "\n",
    "#Note - fetchall() --> fetch all rows for the current query, if no rows avaliable then,it returns an empty list.\n",
    "\n",
    "movies = pd.DataFrame(movies, columns = ['id', 'original_title', 'popularity','title','director_id'])\n",
    "#Creating a dataframe, A dataframe contains rows and columns , It is a Two-dimensional, size-mutable, potentially heterogeneous tabular data.\n",
    "\n",
    "\n",
    "\n",
    "print('Shape of Movies data :',movies.shape)\n",
    "movies.head(10)\n",
    "\n",
    "#LIst of top 10 popular movies "
   ]
  },
  {
   "cell_type": "markdown",
   "id": "07ac0aef",
   "metadata": {},
   "source": [
    "ANALYSIS :- I generated a table with 5 columns of id, original_title, popularity, title, director_id .\n",
    "After analyzing the data I fount that, \n",
    "\n",
    "LIST of tOP 10 Popularity  movies are :-\n",
    "Minions\n",
    "Interstellar\n",
    "Deadpool\t\n",
    "Guardians of the Galaxy\n",
    "Mad Max: Fury Road\n",
    "Jurassic World\n",
    "Pirates of the Caribbean: The Curse of the Bla..\n",
    "Dawn of the Planet of the Apes\n",
    "The Hunger Games: Mockingjay - Part 1\t\n",
    "Big Hero 6\t"
   ]
  },
  {
   "cell_type": "markdown",
   "id": "bbb7e8ff",
   "metadata": {},
   "source": []
  },
  {
   "cell_type": "markdown",
   "id": "2b2c3433",
   "metadata": {},
   "source": [
    "# Revenue Analysis ,Question - What are the top 10 Revenue movies\n"
   ]
  },
  {
   "cell_type": "code",
   "execution_count": 55,
   "id": "da15cc10",
   "metadata": {},
   "outputs": [
    {
     "name": "stdout",
     "output_type": "stream",
     "text": [
      "TOP 10 Revenue generated movies  : (10, 5)\n"
     ]
    },
    {
     "data": {
      "text/html": [
       "<div>\n",
       "<style scoped>\n",
       "    .dataframe tbody tr th:only-of-type {\n",
       "        vertical-align: middle;\n",
       "    }\n",
       "\n",
       "    .dataframe tbody tr th {\n",
       "        vertical-align: top;\n",
       "    }\n",
       "\n",
       "    .dataframe thead th {\n",
       "        text-align: right;\n",
       "    }\n",
       "</style>\n",
       "<table border=\"1\" class=\"dataframe\">\n",
       "  <thead>\n",
       "    <tr style=\"text-align: right;\">\n",
       "      <th></th>\n",
       "      <th>id</th>\n",
       "      <th>original_title</th>\n",
       "      <th>revenue</th>\n",
       "      <th>title</th>\n",
       "      <th>director_id</th>\n",
       "    </tr>\n",
       "  </thead>\n",
       "  <tbody>\n",
       "    <tr>\n",
       "      <th>0</th>\n",
       "      <td>43597</td>\n",
       "      <td>Avatar</td>\n",
       "      <td>2787965087</td>\n",
       "      <td>Avatar</td>\n",
       "      <td>4762</td>\n",
       "    </tr>\n",
       "    <tr>\n",
       "      <th>1</th>\n",
       "      <td>43622</td>\n",
       "      <td>Titanic</td>\n",
       "      <td>1845034188</td>\n",
       "      <td>Titanic</td>\n",
       "      <td>4762</td>\n",
       "    </tr>\n",
       "    <tr>\n",
       "      <th>2</th>\n",
       "      <td>43613</td>\n",
       "      <td>The Avengers</td>\n",
       "      <td>1519557910</td>\n",
       "      <td>The Avengers</td>\n",
       "      <td>4769</td>\n",
       "    </tr>\n",
       "    <tr>\n",
       "      <th>3</th>\n",
       "      <td>43625</td>\n",
       "      <td>Jurassic World</td>\n",
       "      <td>1513528810</td>\n",
       "      <td>Jurassic World</td>\n",
       "      <td>4783</td>\n",
       "    </tr>\n",
       "    <tr>\n",
       "      <th>4</th>\n",
       "      <td>43641</td>\n",
       "      <td>Furious 7</td>\n",
       "      <td>1506249360</td>\n",
       "      <td>Furious 7</td>\n",
       "      <td>4794</td>\n",
       "    </tr>\n",
       "    <tr>\n",
       "      <th>5</th>\n",
       "      <td>43604</td>\n",
       "      <td>Avengers: Age of Ultron</td>\n",
       "      <td>1405403694</td>\n",
       "      <td>Avengers: Age of Ultron</td>\n",
       "      <td>4769</td>\n",
       "    </tr>\n",
       "    <tr>\n",
       "      <th>6</th>\n",
       "      <td>43721</td>\n",
       "      <td>Frozen</td>\n",
       "      <td>1274219009</td>\n",
       "      <td>Frozen</td>\n",
       "      <td>4844</td>\n",
       "    </tr>\n",
       "    <tr>\n",
       "      <th>7</th>\n",
       "      <td>43628</td>\n",
       "      <td>Iron Man 3</td>\n",
       "      <td>1215439994</td>\n",
       "      <td>Iron Man 3</td>\n",
       "      <td>4784</td>\n",
       "    </tr>\n",
       "    <tr>\n",
       "      <th>8</th>\n",
       "      <td>44143</td>\n",
       "      <td>Minions</td>\n",
       "      <td>1156730962</td>\n",
       "      <td>Minions</td>\n",
       "      <td>5045</td>\n",
       "    </tr>\n",
       "    <tr>\n",
       "      <th>9</th>\n",
       "      <td>43623</td>\n",
       "      <td>Captain America: Civil War</td>\n",
       "      <td>1153304495</td>\n",
       "      <td>Captain America: Civil War</td>\n",
       "      <td>4781</td>\n",
       "    </tr>\n",
       "  </tbody>\n",
       "</table>\n",
       "</div>"
      ],
      "text/plain": [
       "      id              original_title     revenue                       title  \\\n",
       "0  43597                      Avatar  2787965087                      Avatar   \n",
       "1  43622                     Titanic  1845034188                     Titanic   \n",
       "2  43613                The Avengers  1519557910                The Avengers   \n",
       "3  43625              Jurassic World  1513528810              Jurassic World   \n",
       "4  43641                   Furious 7  1506249360                   Furious 7   \n",
       "5  43604     Avengers: Age of Ultron  1405403694     Avengers: Age of Ultron   \n",
       "6  43721                      Frozen  1274219009                      Frozen   \n",
       "7  43628                  Iron Man 3  1215439994                  Iron Man 3   \n",
       "8  44143                     Minions  1156730962                     Minions   \n",
       "9  43623  Captain America: Civil War  1153304495  Captain America: Civil War   \n",
       "\n",
       "   director_id  \n",
       "0         4762  \n",
       "1         4762  \n",
       "2         4769  \n",
       "3         4783  \n",
       "4         4794  \n",
       "5         4769  \n",
       "6         4844  \n",
       "7         4784  \n",
       "8         5045  \n",
       "9         4781  "
      ]
     },
     "execution_count": 55,
     "metadata": {},
     "output_type": "execute_result"
    }
   ],
   "source": [
    "cur.execute('SELECT movies.id, movies.original_title, movies.revenue, movies.title , movies.director_id FROM movies ORDER BY Revenue DESC LIMIT 10')\n",
    "#use the cursor object to call the execute() method to execute any SQL queries.\n",
    "movies = cur.fetchall()\n",
    "\n",
    "#movies -> if u print movies , all the data shown in list manner, can't understanadble\n",
    "\n",
    "#Note - fetchall() --> fetch all rows for the current query, if no rows avaliable then,it returns an empty list.\n",
    "\n",
    "movies = pd.DataFrame(movies, columns = [ 'id','original_title','revenue', 'title', 'director_id'])\n",
    "#Creating a dataframe, A dataframe contains rows and columns , It is a Two-dimensional, size-mutable, potentially heterogeneous tabular data.\n",
    "\n",
    "\n",
    "\n",
    "print('TOP 10 Revenue generated movies  :',movies.shape)\n",
    "movies.head(10)\n",
    "\n",
    "#LIst of Top 10 popular movies "
   ]
  },
  {
   "cell_type": "markdown",
   "id": "8a3fa41f",
   "metadata": {},
   "source": [
    "ANALYSIS :- I generated a table with 5 columns of id, original_title, revenue, title, director_id .\n",
    "After analyzing the data I fount that, \n",
    "\n",
    "TOP 10 Revenue generated movies are :-\n",
    "Avatar \n",
    "Titanic\n",
    "The Avengers\n",
    "Jurassic World\t\n",
    "Furious 7\n",
    "Avengers: Age of Ultron\n",
    "Frozen\n",
    "Iron Man 3\n",
    "Minions\n",
    "Captain America: Civil War\t"
   ]
  },
  {
   "cell_type": "markdown",
   "id": "b9247fc5",
   "metadata": {},
   "source": []
  },
  {
   "cell_type": "markdown",
   "id": "19dba947",
   "metadata": {},
   "source": [
    "# Voting Analysis,Question - Display most popular movies with vote_average\n"
   ]
  },
  {
   "cell_type": "code",
   "execution_count": 16,
   "id": "82b8fcfc",
   "metadata": {},
   "outputs": [
    {
     "name": "stdout",
     "output_type": "stream",
     "text": [
      "Most popular Movies with average voting : (5, 4)\n"
     ]
    },
    {
     "data": {
      "text/html": [
       "<div>\n",
       "<style scoped>\n",
       "    .dataframe tbody tr th:only-of-type {\n",
       "        vertical-align: middle;\n",
       "    }\n",
       "\n",
       "    .dataframe tbody tr th {\n",
       "        vertical-align: top;\n",
       "    }\n",
       "\n",
       "    .dataframe thead th {\n",
       "        text-align: right;\n",
       "    }\n",
       "</style>\n",
       "<table border=\"1\" class=\"dataframe\">\n",
       "  <thead>\n",
       "    <tr style=\"text-align: right;\">\n",
       "      <th></th>\n",
       "      <th>id</th>\n",
       "      <th>title</th>\n",
       "      <th>original_title</th>\n",
       "      <th>vote_average</th>\n",
       "    </tr>\n",
       "  </thead>\n",
       "  <tbody>\n",
       "    <tr>\n",
       "      <th>0</th>\n",
       "      <td>47116</td>\n",
       "      <td>Stiff Upper Lips</td>\n",
       "      <td>Stiff Upper Lips</td>\n",
       "      <td>10.0</td>\n",
       "    </tr>\n",
       "    <tr>\n",
       "      <th>1</th>\n",
       "      <td>47642</td>\n",
       "      <td>Dancer, Texas Pop. 81</td>\n",
       "      <td>Dancer, Texas Pop. 81</td>\n",
       "      <td>10.0</td>\n",
       "    </tr>\n",
       "    <tr>\n",
       "      <th>2</th>\n",
       "      <td>47589</td>\n",
       "      <td>Sardaarji</td>\n",
       "      <td>Sardaarji</td>\n",
       "      <td>9.5</td>\n",
       "    </tr>\n",
       "    <tr>\n",
       "      <th>3</th>\n",
       "      <td>45983</td>\n",
       "      <td>One Man's Hero</td>\n",
       "      <td>One Man's Hero</td>\n",
       "      <td>9.3</td>\n",
       "    </tr>\n",
       "    <tr>\n",
       "      <th>4</th>\n",
       "      <td>45478</td>\n",
       "      <td>The Shawshank Redemption</td>\n",
       "      <td>The Shawshank Redemption</td>\n",
       "      <td>8.5</td>\n",
       "    </tr>\n",
       "  </tbody>\n",
       "</table>\n",
       "</div>"
      ],
      "text/plain": [
       "      id                     title            original_title  vote_average\n",
       "0  47116          Stiff Upper Lips          Stiff Upper Lips          10.0\n",
       "1  47642     Dancer, Texas Pop. 81     Dancer, Texas Pop. 81          10.0\n",
       "2  47589                 Sardaarji                 Sardaarji           9.5\n",
       "3  45983            One Man's Hero            One Man's Hero           9.3\n",
       "4  45478  The Shawshank Redemption  The Shawshank Redemption           8.5"
      ]
     },
     "execution_count": 16,
     "metadata": {},
     "output_type": "execute_result"
    }
   ],
   "source": [
    "cur.execute('SELECT id,original_title ,title, vote_average FROM movies ORDER BY vote_average DESC LIMIT 5')\n",
    "#use the cursor object to call the execute() method to execute any SQL queries.\n",
    "movies = cur.fetchall()\n",
    "\n",
    "#movies -> if u print movies , all the data shown in list manner, can't understanadble\n",
    "\n",
    "#Note - fetchall() --> fetch all rows for the current query, if no rows avaliable then,it returns an empty list.\n",
    "\n",
    "movies = pd.DataFrame(movies, columns = [ 'id','title','original_title','vote_average'])\n",
    "#Creating a dataframe, A dataframe contains rows and columns , It is a Two-dimensional, size-mutable, potentially heterogeneous tabular data.\n",
    "\n",
    "\n",
    "\n",
    "print('Most popular Movies with average voting :',movies.shape)\n",
    "movies.head(5)\n",
    "\n",
    "#Displays  popular movies with average voting "
   ]
  },
  {
   "cell_type": "markdown",
   "id": "3adb1691",
   "metadata": {},
   "source": [
    "ANALYSIS :- I generated a table with 4 columns of id, title, original_title and vote_average .      \n",
    "After analyzing the data I fount that, \n",
    "\n",
    "This are the most \" 5 \" popular movies with average voting is as follows:-\n",
    "movie :-Stiff Upper Lips\t                vote_average:- 10.0\n",
    "movie :-Dancer, Texas Pop. 81\t\t        vote_average:- 10.0\n",
    "movie :-Sardaarji\t\t                    vote_average:- 9.5\n",
    "movie :-One Man's Hero   \t                vote_average:- 9.3\n",
    "movie :-The Shawshank Redemption\t\t    vote_average:- 8.5"
   ]
  },
  {
   "cell_type": "markdown",
   "id": "28869f7a",
   "metadata": {},
   "source": []
  },
  {
   "cell_type": "markdown",
   "id": "1303ad32",
   "metadata": {},
   "source": [
    "# Voting Analysis, Question - List out Particular movie for Voting average and votecount\n"
   ]
  },
  {
   "cell_type": "code",
   "execution_count": 19,
   "id": "03d370ff",
   "metadata": {},
   "outputs": [
    {
     "name": "stdout",
     "output_type": "stream",
     "text": [
      "Most popular Movie with average voting and have heights vote count : (1, 5)\n"
     ]
    },
    {
     "data": {
      "text/html": [
       "<div>\n",
       "<style scoped>\n",
       "    .dataframe tbody tr th:only-of-type {\n",
       "        vertical-align: middle;\n",
       "    }\n",
       "\n",
       "    .dataframe tbody tr th {\n",
       "        vertical-align: top;\n",
       "    }\n",
       "\n",
       "    .dataframe thead th {\n",
       "        text-align: right;\n",
       "    }\n",
       "</style>\n",
       "<table border=\"1\" class=\"dataframe\">\n",
       "  <thead>\n",
       "    <tr style=\"text-align: right;\">\n",
       "      <th></th>\n",
       "      <th>id</th>\n",
       "      <th>title</th>\n",
       "      <th>original_title</th>\n",
       "      <th>vote_average</th>\n",
       "      <th>vote_count</th>\n",
       "    </tr>\n",
       "  </thead>\n",
       "  <tbody>\n",
       "    <tr>\n",
       "      <th>0</th>\n",
       "      <td>43597</td>\n",
       "      <td>Avatar</td>\n",
       "      <td>Avatar</td>\n",
       "      <td>7.2</td>\n",
       "      <td>11800</td>\n",
       "    </tr>\n",
       "  </tbody>\n",
       "</table>\n",
       "</div>"
      ],
      "text/plain": [
       "      id   title original_title  vote_average  vote_count\n",
       "0  43597  Avatar         Avatar           7.2       11800"
      ]
     },
     "execution_count": 19,
     "metadata": {},
     "output_type": "execute_result"
    }
   ],
   "source": [
    "cur.execute('SELECT id,original_title ,title, vote_average, vote_count FROM movies ORDER BY vote_average AND vote_count DESC LIMIT 1')\n",
    "#use the cursor object to call the execute() method to execute any SQL queries.\n",
    "movies = cur.fetchall()\n",
    "\n",
    "#movies -> if u print movies , all the data shown in list manner, can't understanadble\n",
    "\n",
    "#Note - fetchall() --> fetch all rows for the current query, if no rows avaliable then,it returns an empty list.\n",
    "\n",
    "movies = pd.DataFrame(movies, columns = [ 'id','title','original_title','vote_average','vote_count'])\n",
    "#Creating a dataframe, A dataframe contains rows and columns , It is a Two-dimensional, size-mutable, potentially heterogeneous tabular data.\n",
    "\n",
    "\n",
    "\n",
    "print('Most popular Movie with average voting and have heights vote count :',movies.shape)\n",
    "movies.head(1)\n",
    "\n",
    "#Displays  popular movies with average voting and have heights vote count"
   ]
  },
  {
   "cell_type": "markdown",
   "id": "1c7e47d6",
   "metadata": {},
   "source": [
    "ANALYSIS :- I generated a table with 5 columns of id, title, original_title, vote_average and vote_count .        \n",
    "\n",
    "After analyzing the data I fount that, \n",
    "Most popular Movie with average voting and have heights vote count is \"Avatar\"\t."
   ]
  },
  {
   "cell_type": "markdown",
   "id": "a6c21e27",
   "metadata": {},
   "source": []
  },
  {
   "cell_type": "markdown",
   "id": "4518bdd1",
   "metadata": {},
   "source": [
    "# Directors Analysis, Question- List out the director names with number of movies and revenue\n"
   ]
  },
  {
   "cell_type": "code",
   "execution_count": 54,
   "id": "b4eed705",
   "metadata": {
    "scrolled": true
   },
   "outputs": [
    {
     "name": "stdout",
     "output_type": "stream",
     "text": [
      "Dirctor who made the most movies is : (1, 3)\n"
     ]
    },
    {
     "data": {
      "text/html": [
       "<div>\n",
       "<style scoped>\n",
       "    .dataframe tbody tr th:only-of-type {\n",
       "        vertical-align: middle;\n",
       "    }\n",
       "\n",
       "    .dataframe tbody tr th {\n",
       "        vertical-align: top;\n",
       "    }\n",
       "\n",
       "    .dataframe thead th {\n",
       "        text-align: right;\n",
       "    }\n",
       "</style>\n",
       "<table border=\"1\" class=\"dataframe\">\n",
       "  <thead>\n",
       "    <tr style=\"text-align: right;\">\n",
       "      <th></th>\n",
       "      <th>name</th>\n",
       "      <th>movies_count</th>\n",
       "      <th>Total_revenue</th>\n",
       "    </tr>\n",
       "  </thead>\n",
       "  <tbody>\n",
       "    <tr>\n",
       "      <th>0</th>\n",
       "      <td>Steven Spielberg</td>\n",
       "      <td>27</td>\n",
       "      <td>9147393164</td>\n",
       "    </tr>\n",
       "  </tbody>\n",
       "</table>\n",
       "</div>"
      ],
      "text/plain": [
       "               name  movies_count  Total_revenue\n",
       "0  Steven Spielberg            27     9147393164"
      ]
     },
     "execution_count": 54,
     "metadata": {},
     "output_type": "execute_result"
    }
   ],
   "source": [
    "cur.execute(\" SELECT directors.name ,COUNT(movies.id) AS movies_count, SUM(movies.revenue) AS Total_revenue FROM directors JOIN movies ON directors.id = movies.director_id GROUP BY directors.id ORDER BY movies_count DESC , Total_revenue DESC LIMIT  1; \")\n",
    "\n",
    "directors = cur.fetchall()\n",
    "\n",
    "#movies -> if u print movies , all the data shown in list manner, can't understanadble\n",
    "\n",
    "#Note - fetchall() --> fetch all rows for the current query, if no rows avaliable then,it returns an empty list.\n",
    "\n",
    "directors = pd.DataFrame(directors, columns = ['name','movies_count','Total_revenue'])\n",
    "#Creating a dataframe, A dataframe contains rows and columns , It is a Two-dimensional, size-mutable, potentially heterogeneous tabular data.\n",
    "\n",
    "print('Dirctor who made the most movies is :',directors.shape)\n",
    "directors.head(1)"
   ]
  },
  {
   "cell_type": "markdown",
   "id": "d1d5087c",
   "metadata": {},
   "source": [
    "ANALYSIS :- I generated a table with 3 columns of name, movies_count and Total_revenue .          After analyzing the data I fount that, \n",
    "Director Steven Spielberg has the most number of movies with a total of 27 and he has also generated a total revenue of 9,147,393,164."
   ]
  }
 ],
 "metadata": {
  "kernelspec": {
   "display_name": "Python 3 (ipykernel)",
   "language": "python",
   "name": "python3"
  },
  "language_info": {
   "codemirror_mode": {
    "name": "ipython",
    "version": 3
   },
   "file_extension": ".py",
   "mimetype": "text/x-python",
   "name": "python",
   "nbconvert_exporter": "python",
   "pygments_lexer": "ipython3",
   "version": "3.11.5"
  }
 },
 "nbformat": 4,
 "nbformat_minor": 5
}
