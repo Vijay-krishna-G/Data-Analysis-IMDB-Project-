{
 "cells": [
  {
   "cell_type": "markdown",
   "id": "07628ad7",
   "metadata": {},
   "source": [
    "pratices "
   ]
  },
  {
   "cell_type": "markdown",
   "id": "e9cc8b4e",
   "metadata": {},
   "source": [
    "Question 5: Find all directors with name starting with Steven."
   ]
  },
  {
   "cell_type": "code",
   "execution_count": null,
   "id": "25729f68",
   "metadata": {},
   "outputs": [],
   "source": [
    "cur.execute(\"SELECT * FROM directors  WHERE name LIKE ('Steven')\")\n",
    "#use the cursor object to call the execute() method to execute any SQL queries.\n",
    "directors = cur.fetchall()\n",
    "\n",
    "#movies -> if u print movies , all the data shown in list manner, can't understanadble\n",
    "\n",
    "#Note - fetchall() --> fetch all rows for the current query, if no rows avaliable then,it returns an empty list.\n",
    "\n",
    "directors = pd.DataFrame(directors, columns = ['name', 'id', 'gender', 'uid', 'department'])\n",
    "#Creating a dataframe, A dataframe contains rows and columns , It is a Two-dimensional, size-mutable, potentially heterogeneous tabular data.\n",
    "\n",
    "print('Name all directors with name starting with Steven :',directors.shape)\n",
    "directors.head()"
   ]
  },
  {
   "cell_type": "code",
   "execution_count": null,
   "id": "2a507c48",
   "metadata": {},
   "outputs": [],
   "source": []
  },
  {
   "cell_type": "raw",
   "id": "a5a39028",
   "metadata": {},
   "source": [
    "Question 11: Which movie(s) were directed by Brenda Chapman?"
   ]
  },
  {
   "cell_type": "code",
   "execution_count": null,
   "id": "2eb45318",
   "metadata": {},
   "outputs": [],
   "source": [
    "\n",
    "cur.execute(\"SELECT original_title,release_date FROM movies JOIN directors ON directors.id = movies.director_id WHERE directors.name = 'Brenda Chapman'\")\n",
    "movies = cur.fetchall()\n",
    "movies = pd.DataFrame(movies, columns = ['original_title', 'release_date'])\n",
    "print('Shape of Movies directed by brenda chapman data :',movies.shape)\n",
    "movies.head(100)"
   ]
  },
  {
   "cell_type": "code",
   "execution_count": null,
   "id": "6de34091",
   "metadata": {},
   "outputs": [],
   "source": []
  },
  {
   "cell_type": "code",
   "execution_count": null,
   "id": "d6ecfd30",
   "metadata": {},
   "outputs": [],
   "source": []
  },
  {
   "cell_type": "code",
   "execution_count": null,
   "id": "c9a81c7a",
   "metadata": {},
   "outputs": [],
   "source": []
  }
 ],
 "metadata": {
  "kernelspec": {
   "display_name": "Python 3 (ipykernel)",
   "language": "python",
   "name": "python3"
  },
  "language_info": {
   "codemirror_mode": {
    "name": "ipython",
    "version": 3
   },
   "file_extension": ".py",
   "mimetype": "text/x-python",
   "name": "python",
   "nbconvert_exporter": "python",
   "pygments_lexer": "ipython3",
   "version": "3.11.5"
  }
 },
 "nbformat": 4,
 "nbformat_minor": 5
}
